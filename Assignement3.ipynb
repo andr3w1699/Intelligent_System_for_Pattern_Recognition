{
  "nbformat": 4,
  "nbformat_minor": 0,
  "metadata": {
    "colab": {
      "provenance": [],
      "authorship_tag": "ABX9TyPupxsNahFNflT+DHC93+c3",
      "include_colab_link": true
    },
    "kernelspec": {
      "name": "python3",
      "display_name": "Python 3"
    },
    "language_info": {
      "name": "python"
    }
  },
  "cells": [
    {
      "cell_type": "markdown",
      "metadata": {
        "id": "view-in-github",
        "colab_type": "text"
      },
      "source": [
        "<a href=\"https://colab.research.google.com/github/andr3w1699/Intelligent_System_for_Pattern_Recognition/blob/main/Assignement3.ipynb\" target=\"_parent\"><img src=\"https://colab.research.google.com/assets/colab-badge.svg\" alt=\"Open In Colab\"/></a>"
      ]
    },
    {
      "cell_type": "markdown",
      "source": [
        "# Assignement 3 (ISPR)\n",
        "Selected assignement:\n",
        "\n",
        "Assignment 4\n",
        "DATASET (Airline reviews): https://www.kaggle.com/datasets/khushipitroda/airline-reviews\n",
        "\n",
        "The dataset contains text of online travel reviews (in Column Review) with an associated Rating (column Overall_Rating). The objective is to train a classifier to predict the rating from the Review text. You are free to choose the model's architecture, but you should describe and justify your design choices.  Train the model and assess it as appropriate in machine learning. You are allowed to preprocess the data however you want (e.g. using pretrained embeddings, dropping some features, just a bag-of-words), but the predictive model must be trained by yourself from scratch (no pretrained predictor)."
      ],
      "metadata": {
        "id": "v5E6fYAWeil2"
      }
    },
    {
      "cell_type": "markdown",
      "source": [
        "## Idea for the model architecture and processing pipeline\n",
        "The goal of this assignment is to compare different sentiment classification models, all based on the use of Deep Learning models built on top of review embeddings.\n",
        "\n",
        "First, models based on recurrent neural networks (RNN and gated variants) will be implemented, to do this the text sequences will be encoded as embedding sequences, ideally one for each word that constitutes the review, then a classifier based on RNN will be trained with an appropriate classification head.\n",
        "\n",
        "Then will be tested another architecture, for each review, rather than having a sequence of embedding, we want a fixed embedding vector for each review. This will be obtained by mapping each token of the sentence in the corresponding embedding vector as before, and then somehow pool the embeddings of all the words in the review to get a single embedding vector for each review. On top of these fixed-size embeddings, I can use any deep model even for non-sequential data for the classification task.\n",
        "\n",
        "As for embeddings, we experiment with both the default embeddings built by Keras and the pre-trained GloVE embeddings.\n"
      ],
      "metadata": {
        "id": "iciB1w0rdiWn"
      }
    },
    {
      "cell_type": "code",
      "source": [
        "# needed libraries and import\n",
        "import pandas as pd\n",
        "import numpy as np\n",
        "import tensorflow as tf\n",
        "from sklearn.model_selection import train_test_split\n",
        "from sklearn.preprocessing import LabelEncoder\n",
        "from tensorflow.keras.preprocessing.text import Tokenizer\n",
        "from tensorflow.keras.preprocessing.sequence import pad_sequences\n",
        "from tensorflow.keras.models import Sequential\n",
        "from tensorflow.keras.layers import Embedding, LSTM, Dense, Dropout, Bidirectional, SpatialDropout1D, SimpleRNN\n",
        "from tensorflow.keras.callbacks import EarlyStopping\n",
        "from sklearn.utils.class_weight import compute_class_weight\n",
        "from sklearn.metrics import classification_report, confusion_matrix, precision_score, recall_score, f1_score\n",
        "from tensorflow.keras.regularizers import l2\n",
        "import re\n",
        "from google.colab import files\n",
        "import matplotlib.pyplot as plt\n",
        "import seaborn as sns"
      ],
      "metadata": {
        "id": "p7jF_gzngN-a"
      },
      "execution_count": 117,
      "outputs": []
    },
    {
      "cell_type": "markdown",
      "source": [
        "# Loading Dataset and brief Data Understanding and Preprocessing"
      ],
      "metadata": {
        "id": "xUukZVhAf3du"
      }
    },
    {
      "cell_type": "code",
      "execution_count": 2,
      "metadata": {
        "colab": {
          "base_uri": "https://localhost:8080/",
          "height": 73
        },
        "id": "_SDJ1Zs9CL92",
        "outputId": "4b02cc0d-7e1d-4065-e6ba-f4ca1ca24a43"
      },
      "outputs": [
        {
          "output_type": "display_data",
          "data": {
            "text/plain": [
              "<IPython.core.display.HTML object>"
            ],
            "text/html": [
              "\n",
              "     <input type=\"file\" id=\"files-939bef58-35c5-473b-8423-d5dbe7c7a5b0\" name=\"files[]\" multiple disabled\n",
              "        style=\"border:none\" />\n",
              "     <output id=\"result-939bef58-35c5-473b-8423-d5dbe7c7a5b0\">\n",
              "      Upload widget is only available when the cell has been executed in the\n",
              "      current browser session. Please rerun this cell to enable.\n",
              "      </output>\n",
              "      <script>// Copyright 2017 Google LLC\n",
              "//\n",
              "// Licensed under the Apache License, Version 2.0 (the \"License\");\n",
              "// you may not use this file except in compliance with the License.\n",
              "// You may obtain a copy of the License at\n",
              "//\n",
              "//      http://www.apache.org/licenses/LICENSE-2.0\n",
              "//\n",
              "// Unless required by applicable law or agreed to in writing, software\n",
              "// distributed under the License is distributed on an \"AS IS\" BASIS,\n",
              "// WITHOUT WARRANTIES OR CONDITIONS OF ANY KIND, either express or implied.\n",
              "// See the License for the specific language governing permissions and\n",
              "// limitations under the License.\n",
              "\n",
              "/**\n",
              " * @fileoverview Helpers for google.colab Python module.\n",
              " */\n",
              "(function(scope) {\n",
              "function span(text, styleAttributes = {}) {\n",
              "  const element = document.createElement('span');\n",
              "  element.textContent = text;\n",
              "  for (const key of Object.keys(styleAttributes)) {\n",
              "    element.style[key] = styleAttributes[key];\n",
              "  }\n",
              "  return element;\n",
              "}\n",
              "\n",
              "// Max number of bytes which will be uploaded at a time.\n",
              "const MAX_PAYLOAD_SIZE = 100 * 1024;\n",
              "\n",
              "function _uploadFiles(inputId, outputId) {\n",
              "  const steps = uploadFilesStep(inputId, outputId);\n",
              "  const outputElement = document.getElementById(outputId);\n",
              "  // Cache steps on the outputElement to make it available for the next call\n",
              "  // to uploadFilesContinue from Python.\n",
              "  outputElement.steps = steps;\n",
              "\n",
              "  return _uploadFilesContinue(outputId);\n",
              "}\n",
              "\n",
              "// This is roughly an async generator (not supported in the browser yet),\n",
              "// where there are multiple asynchronous steps and the Python side is going\n",
              "// to poll for completion of each step.\n",
              "// This uses a Promise to block the python side on completion of each step,\n",
              "// then passes the result of the previous step as the input to the next step.\n",
              "function _uploadFilesContinue(outputId) {\n",
              "  const outputElement = document.getElementById(outputId);\n",
              "  const steps = outputElement.steps;\n",
              "\n",
              "  const next = steps.next(outputElement.lastPromiseValue);\n",
              "  return Promise.resolve(next.value.promise).then((value) => {\n",
              "    // Cache the last promise value to make it available to the next\n",
              "    // step of the generator.\n",
              "    outputElement.lastPromiseValue = value;\n",
              "    return next.value.response;\n",
              "  });\n",
              "}\n",
              "\n",
              "/**\n",
              " * Generator function which is called between each async step of the upload\n",
              " * process.\n",
              " * @param {string} inputId Element ID of the input file picker element.\n",
              " * @param {string} outputId Element ID of the output display.\n",
              " * @return {!Iterable<!Object>} Iterable of next steps.\n",
              " */\n",
              "function* uploadFilesStep(inputId, outputId) {\n",
              "  const inputElement = document.getElementById(inputId);\n",
              "  inputElement.disabled = false;\n",
              "\n",
              "  const outputElement = document.getElementById(outputId);\n",
              "  outputElement.innerHTML = '';\n",
              "\n",
              "  const pickedPromise = new Promise((resolve) => {\n",
              "    inputElement.addEventListener('change', (e) => {\n",
              "      resolve(e.target.files);\n",
              "    });\n",
              "  });\n",
              "\n",
              "  const cancel = document.createElement('button');\n",
              "  inputElement.parentElement.appendChild(cancel);\n",
              "  cancel.textContent = 'Cancel upload';\n",
              "  const cancelPromise = new Promise((resolve) => {\n",
              "    cancel.onclick = () => {\n",
              "      resolve(null);\n",
              "    };\n",
              "  });\n",
              "\n",
              "  // Wait for the user to pick the files.\n",
              "  const files = yield {\n",
              "    promise: Promise.race([pickedPromise, cancelPromise]),\n",
              "    response: {\n",
              "      action: 'starting',\n",
              "    }\n",
              "  };\n",
              "\n",
              "  cancel.remove();\n",
              "\n",
              "  // Disable the input element since further picks are not allowed.\n",
              "  inputElement.disabled = true;\n",
              "\n",
              "  if (!files) {\n",
              "    return {\n",
              "      response: {\n",
              "        action: 'complete',\n",
              "      }\n",
              "    };\n",
              "  }\n",
              "\n",
              "  for (const file of files) {\n",
              "    const li = document.createElement('li');\n",
              "    li.append(span(file.name, {fontWeight: 'bold'}));\n",
              "    li.append(span(\n",
              "        `(${file.type || 'n/a'}) - ${file.size} bytes, ` +\n",
              "        `last modified: ${\n",
              "            file.lastModifiedDate ? file.lastModifiedDate.toLocaleDateString() :\n",
              "                                    'n/a'} - `));\n",
              "    const percent = span('0% done');\n",
              "    li.appendChild(percent);\n",
              "\n",
              "    outputElement.appendChild(li);\n",
              "\n",
              "    const fileDataPromise = new Promise((resolve) => {\n",
              "      const reader = new FileReader();\n",
              "      reader.onload = (e) => {\n",
              "        resolve(e.target.result);\n",
              "      };\n",
              "      reader.readAsArrayBuffer(file);\n",
              "    });\n",
              "    // Wait for the data to be ready.\n",
              "    let fileData = yield {\n",
              "      promise: fileDataPromise,\n",
              "      response: {\n",
              "        action: 'continue',\n",
              "      }\n",
              "    };\n",
              "\n",
              "    // Use a chunked sending to avoid message size limits. See b/62115660.\n",
              "    let position = 0;\n",
              "    do {\n",
              "      const length = Math.min(fileData.byteLength - position, MAX_PAYLOAD_SIZE);\n",
              "      const chunk = new Uint8Array(fileData, position, length);\n",
              "      position += length;\n",
              "\n",
              "      const base64 = btoa(String.fromCharCode.apply(null, chunk));\n",
              "      yield {\n",
              "        response: {\n",
              "          action: 'append',\n",
              "          file: file.name,\n",
              "          data: base64,\n",
              "        },\n",
              "      };\n",
              "\n",
              "      let percentDone = fileData.byteLength === 0 ?\n",
              "          100 :\n",
              "          Math.round((position / fileData.byteLength) * 100);\n",
              "      percent.textContent = `${percentDone}% done`;\n",
              "\n",
              "    } while (position < fileData.byteLength);\n",
              "  }\n",
              "\n",
              "  // All done.\n",
              "  yield {\n",
              "    response: {\n",
              "      action: 'complete',\n",
              "    }\n",
              "  };\n",
              "}\n",
              "\n",
              "scope.google = scope.google || {};\n",
              "scope.google.colab = scope.google.colab || {};\n",
              "scope.google.colab._files = {\n",
              "  _uploadFiles,\n",
              "  _uploadFilesContinue,\n",
              "};\n",
              "})(self);\n",
              "</script> "
            ]
          },
          "metadata": {}
        },
        {
          "output_type": "stream",
          "name": "stdout",
          "text": [
            "Saving Airline_Reviews.csv to Airline_Reviews.csv\n"
          ]
        }
      ],
      "source": [
        "# load the dataset Airline_Reviews.csv on colab from local\n",
        "uploaded = files.upload()"
      ]
    },
    {
      "cell_type": "code",
      "source": [
        "# load the dataset on a Pandas dataframe\n",
        "df = pd.read_csv('Airline_Reviews.csv')\n",
        "df.head()"
      ],
      "metadata": {
        "colab": {
          "base_uri": "https://localhost:8080/",
          "height": 695
        },
        "id": "GqBoajgODxH6",
        "outputId": "5516005f-d42a-485c-b875-aa4f8d4d6e8c"
      },
      "execution_count": 88,
      "outputs": [
        {
          "output_type": "execute_result",
          "data": {
            "text/plain": [
              "   Unnamed: 0   Airline Name Overall_Rating  \\\n",
              "0           0    AB Aviation              9   \n",
              "1           1    AB Aviation              1   \n",
              "2           2    AB Aviation              1   \n",
              "3           3  Adria Airways              1   \n",
              "4           4  Adria Airways              1   \n",
              "\n",
              "                            Review_Title          Review Date  Verified  \\\n",
              "0                \"pretty decent airline\"   11th November 2019      True   \n",
              "1                   \"Not a good airline\"       25th June 2019      True   \n",
              "2         \"flight was fortunately short\"       25th June 2019      True   \n",
              "3    \"I will never fly again with Adria\"  28th September 2019     False   \n",
              "4  \"it ruined our last days of holidays\"  24th September 2019      True   \n",
              "\n",
              "                                              Review       Aircraft  \\\n",
              "0    Moroni to Moheli. Turned out to be a pretty ...            NaN   \n",
              "1   Moroni to Anjouan. It is a very small airline...           E120   \n",
              "2    Anjouan to Dzaoudzi. A very small airline an...  Embraer E120    \n",
              "3    Please do a favor yourself and do not fly wi...            NaN   \n",
              "4   Do not book a flight with this airline! My fr...            NaN   \n",
              "\n",
              "  Type Of Traveller      Seat Type                             Route  \\\n",
              "0      Solo Leisure  Economy Class                  Moroni to Moheli   \n",
              "1      Solo Leisure  Economy Class                 Moroni to Anjouan   \n",
              "2      Solo Leisure  Economy Class               Anjouan to Dzaoudzi   \n",
              "3      Solo Leisure  Economy Class             Frankfurt to Pristina   \n",
              "4    Couple Leisure  Economy Class  Sofia to Amsterdam via Ljubljana   \n",
              "\n",
              "       Date Flown  Seat Comfort  Cabin Staff Service  Food & Beverages  \\\n",
              "0   November 2019           4.0                  5.0               4.0   \n",
              "1       June 2019           2.0                  2.0               1.0   \n",
              "2       June 2019           2.0                  1.0               1.0   \n",
              "3  September 2019           1.0                  1.0               NaN   \n",
              "4  September 2019           1.0                  1.0               1.0   \n",
              "\n",
              "   Ground Service  Inflight Entertainment  Wifi & Connectivity  \\\n",
              "0             4.0                     NaN                  NaN   \n",
              "1             1.0                     NaN                  NaN   \n",
              "2             1.0                     NaN                  NaN   \n",
              "3             1.0                     NaN                  NaN   \n",
              "4             1.0                     1.0                  1.0   \n",
              "\n",
              "   Value For Money Recommended  \n",
              "0              3.0         yes  \n",
              "1              2.0          no  \n",
              "2              2.0          no  \n",
              "3              1.0          no  \n",
              "4              1.0          no  "
            ],
            "text/html": [
              "\n",
              "  <div id=\"df-4fbecf0a-eadc-4cad-a286-d28a2567eb40\" class=\"colab-df-container\">\n",
              "    <div>\n",
              "<style scoped>\n",
              "    .dataframe tbody tr th:only-of-type {\n",
              "        vertical-align: middle;\n",
              "    }\n",
              "\n",
              "    .dataframe tbody tr th {\n",
              "        vertical-align: top;\n",
              "    }\n",
              "\n",
              "    .dataframe thead th {\n",
              "        text-align: right;\n",
              "    }\n",
              "</style>\n",
              "<table border=\"1\" class=\"dataframe\">\n",
              "  <thead>\n",
              "    <tr style=\"text-align: right;\">\n",
              "      <th></th>\n",
              "      <th>Unnamed: 0</th>\n",
              "      <th>Airline Name</th>\n",
              "      <th>Overall_Rating</th>\n",
              "      <th>Review_Title</th>\n",
              "      <th>Review Date</th>\n",
              "      <th>Verified</th>\n",
              "      <th>Review</th>\n",
              "      <th>Aircraft</th>\n",
              "      <th>Type Of Traveller</th>\n",
              "      <th>Seat Type</th>\n",
              "      <th>Route</th>\n",
              "      <th>Date Flown</th>\n",
              "      <th>Seat Comfort</th>\n",
              "      <th>Cabin Staff Service</th>\n",
              "      <th>Food &amp; Beverages</th>\n",
              "      <th>Ground Service</th>\n",
              "      <th>Inflight Entertainment</th>\n",
              "      <th>Wifi &amp; Connectivity</th>\n",
              "      <th>Value For Money</th>\n",
              "      <th>Recommended</th>\n",
              "    </tr>\n",
              "  </thead>\n",
              "  <tbody>\n",
              "    <tr>\n",
              "      <th>0</th>\n",
              "      <td>0</td>\n",
              "      <td>AB Aviation</td>\n",
              "      <td>9</td>\n",
              "      <td>\"pretty decent airline\"</td>\n",
              "      <td>11th November 2019</td>\n",
              "      <td>True</td>\n",
              "      <td>Moroni to Moheli. Turned out to be a pretty ...</td>\n",
              "      <td>NaN</td>\n",
              "      <td>Solo Leisure</td>\n",
              "      <td>Economy Class</td>\n",
              "      <td>Moroni to Moheli</td>\n",
              "      <td>November 2019</td>\n",
              "      <td>4.0</td>\n",
              "      <td>5.0</td>\n",
              "      <td>4.0</td>\n",
              "      <td>4.0</td>\n",
              "      <td>NaN</td>\n",
              "      <td>NaN</td>\n",
              "      <td>3.0</td>\n",
              "      <td>yes</td>\n",
              "    </tr>\n",
              "    <tr>\n",
              "      <th>1</th>\n",
              "      <td>1</td>\n",
              "      <td>AB Aviation</td>\n",
              "      <td>1</td>\n",
              "      <td>\"Not a good airline\"</td>\n",
              "      <td>25th June 2019</td>\n",
              "      <td>True</td>\n",
              "      <td>Moroni to Anjouan. It is a very small airline...</td>\n",
              "      <td>E120</td>\n",
              "      <td>Solo Leisure</td>\n",
              "      <td>Economy Class</td>\n",
              "      <td>Moroni to Anjouan</td>\n",
              "      <td>June 2019</td>\n",
              "      <td>2.0</td>\n",
              "      <td>2.0</td>\n",
              "      <td>1.0</td>\n",
              "      <td>1.0</td>\n",
              "      <td>NaN</td>\n",
              "      <td>NaN</td>\n",
              "      <td>2.0</td>\n",
              "      <td>no</td>\n",
              "    </tr>\n",
              "    <tr>\n",
              "      <th>2</th>\n",
              "      <td>2</td>\n",
              "      <td>AB Aviation</td>\n",
              "      <td>1</td>\n",
              "      <td>\"flight was fortunately short\"</td>\n",
              "      <td>25th June 2019</td>\n",
              "      <td>True</td>\n",
              "      <td>Anjouan to Dzaoudzi. A very small airline an...</td>\n",
              "      <td>Embraer E120</td>\n",
              "      <td>Solo Leisure</td>\n",
              "      <td>Economy Class</td>\n",
              "      <td>Anjouan to Dzaoudzi</td>\n",
              "      <td>June 2019</td>\n",
              "      <td>2.0</td>\n",
              "      <td>1.0</td>\n",
              "      <td>1.0</td>\n",
              "      <td>1.0</td>\n",
              "      <td>NaN</td>\n",
              "      <td>NaN</td>\n",
              "      <td>2.0</td>\n",
              "      <td>no</td>\n",
              "    </tr>\n",
              "    <tr>\n",
              "      <th>3</th>\n",
              "      <td>3</td>\n",
              "      <td>Adria Airways</td>\n",
              "      <td>1</td>\n",
              "      <td>\"I will never fly again with Adria\"</td>\n",
              "      <td>28th September 2019</td>\n",
              "      <td>False</td>\n",
              "      <td>Please do a favor yourself and do not fly wi...</td>\n",
              "      <td>NaN</td>\n",
              "      <td>Solo Leisure</td>\n",
              "      <td>Economy Class</td>\n",
              "      <td>Frankfurt to Pristina</td>\n",
              "      <td>September 2019</td>\n",
              "      <td>1.0</td>\n",
              "      <td>1.0</td>\n",
              "      <td>NaN</td>\n",
              "      <td>1.0</td>\n",
              "      <td>NaN</td>\n",
              "      <td>NaN</td>\n",
              "      <td>1.0</td>\n",
              "      <td>no</td>\n",
              "    </tr>\n",
              "    <tr>\n",
              "      <th>4</th>\n",
              "      <td>4</td>\n",
              "      <td>Adria Airways</td>\n",
              "      <td>1</td>\n",
              "      <td>\"it ruined our last days of holidays\"</td>\n",
              "      <td>24th September 2019</td>\n",
              "      <td>True</td>\n",
              "      <td>Do not book a flight with this airline! My fr...</td>\n",
              "      <td>NaN</td>\n",
              "      <td>Couple Leisure</td>\n",
              "      <td>Economy Class</td>\n",
              "      <td>Sofia to Amsterdam via Ljubljana</td>\n",
              "      <td>September 2019</td>\n",
              "      <td>1.0</td>\n",
              "      <td>1.0</td>\n",
              "      <td>1.0</td>\n",
              "      <td>1.0</td>\n",
              "      <td>1.0</td>\n",
              "      <td>1.0</td>\n",
              "      <td>1.0</td>\n",
              "      <td>no</td>\n",
              "    </tr>\n",
              "  </tbody>\n",
              "</table>\n",
              "</div>\n",
              "    <div class=\"colab-df-buttons\">\n",
              "\n",
              "  <div class=\"colab-df-container\">\n",
              "    <button class=\"colab-df-convert\" onclick=\"convertToInteractive('df-4fbecf0a-eadc-4cad-a286-d28a2567eb40')\"\n",
              "            title=\"Convert this dataframe to an interactive table.\"\n",
              "            style=\"display:none;\">\n",
              "\n",
              "  <svg xmlns=\"http://www.w3.org/2000/svg\" height=\"24px\" viewBox=\"0 -960 960 960\">\n",
              "    <path d=\"M120-120v-720h720v720H120Zm60-500h600v-160H180v160Zm220 220h160v-160H400v160Zm0 220h160v-160H400v160ZM180-400h160v-160H180v160Zm440 0h160v-160H620v160ZM180-180h160v-160H180v160Zm440 0h160v-160H620v160Z\"/>\n",
              "  </svg>\n",
              "    </button>\n",
              "\n",
              "  <style>\n",
              "    .colab-df-container {\n",
              "      display:flex;\n",
              "      gap: 12px;\n",
              "    }\n",
              "\n",
              "    .colab-df-convert {\n",
              "      background-color: #E8F0FE;\n",
              "      border: none;\n",
              "      border-radius: 50%;\n",
              "      cursor: pointer;\n",
              "      display: none;\n",
              "      fill: #1967D2;\n",
              "      height: 32px;\n",
              "      padding: 0 0 0 0;\n",
              "      width: 32px;\n",
              "    }\n",
              "\n",
              "    .colab-df-convert:hover {\n",
              "      background-color: #E2EBFA;\n",
              "      box-shadow: 0px 1px 2px rgba(60, 64, 67, 0.3), 0px 1px 3px 1px rgba(60, 64, 67, 0.15);\n",
              "      fill: #174EA6;\n",
              "    }\n",
              "\n",
              "    .colab-df-buttons div {\n",
              "      margin-bottom: 4px;\n",
              "    }\n",
              "\n",
              "    [theme=dark] .colab-df-convert {\n",
              "      background-color: #3B4455;\n",
              "      fill: #D2E3FC;\n",
              "    }\n",
              "\n",
              "    [theme=dark] .colab-df-convert:hover {\n",
              "      background-color: #434B5C;\n",
              "      box-shadow: 0px 1px 3px 1px rgba(0, 0, 0, 0.15);\n",
              "      filter: drop-shadow(0px 1px 2px rgba(0, 0, 0, 0.3));\n",
              "      fill: #FFFFFF;\n",
              "    }\n",
              "  </style>\n",
              "\n",
              "    <script>\n",
              "      const buttonEl =\n",
              "        document.querySelector('#df-4fbecf0a-eadc-4cad-a286-d28a2567eb40 button.colab-df-convert');\n",
              "      buttonEl.style.display =\n",
              "        google.colab.kernel.accessAllowed ? 'block' : 'none';\n",
              "\n",
              "      async function convertToInteractive(key) {\n",
              "        const element = document.querySelector('#df-4fbecf0a-eadc-4cad-a286-d28a2567eb40');\n",
              "        const dataTable =\n",
              "          await google.colab.kernel.invokeFunction('convertToInteractive',\n",
              "                                                    [key], {});\n",
              "        if (!dataTable) return;\n",
              "\n",
              "        const docLinkHtml = 'Like what you see? Visit the ' +\n",
              "          '<a target=\"_blank\" href=https://colab.research.google.com/notebooks/data_table.ipynb>data table notebook</a>'\n",
              "          + ' to learn more about interactive tables.';\n",
              "        element.innerHTML = '';\n",
              "        dataTable['output_type'] = 'display_data';\n",
              "        await google.colab.output.renderOutput(dataTable, element);\n",
              "        const docLink = document.createElement('div');\n",
              "        docLink.innerHTML = docLinkHtml;\n",
              "        element.appendChild(docLink);\n",
              "      }\n",
              "    </script>\n",
              "  </div>\n",
              "\n",
              "\n",
              "    <div id=\"df-f41b6d82-3c5d-4929-aae5-f73e8e35efbd\">\n",
              "      <button class=\"colab-df-quickchart\" onclick=\"quickchart('df-f41b6d82-3c5d-4929-aae5-f73e8e35efbd')\"\n",
              "                title=\"Suggest charts\"\n",
              "                style=\"display:none;\">\n",
              "\n",
              "<svg xmlns=\"http://www.w3.org/2000/svg\" height=\"24px\"viewBox=\"0 0 24 24\"\n",
              "     width=\"24px\">\n",
              "    <g>\n",
              "        <path d=\"M19 3H5c-1.1 0-2 .9-2 2v14c0 1.1.9 2 2 2h14c1.1 0 2-.9 2-2V5c0-1.1-.9-2-2-2zM9 17H7v-7h2v7zm4 0h-2V7h2v10zm4 0h-2v-4h2v4z\"/>\n",
              "    </g>\n",
              "</svg>\n",
              "      </button>\n",
              "\n",
              "<style>\n",
              "  .colab-df-quickchart {\n",
              "      --bg-color: #E8F0FE;\n",
              "      --fill-color: #1967D2;\n",
              "      --hover-bg-color: #E2EBFA;\n",
              "      --hover-fill-color: #174EA6;\n",
              "      --disabled-fill-color: #AAA;\n",
              "      --disabled-bg-color: #DDD;\n",
              "  }\n",
              "\n",
              "  [theme=dark] .colab-df-quickchart {\n",
              "      --bg-color: #3B4455;\n",
              "      --fill-color: #D2E3FC;\n",
              "      --hover-bg-color: #434B5C;\n",
              "      --hover-fill-color: #FFFFFF;\n",
              "      --disabled-bg-color: #3B4455;\n",
              "      --disabled-fill-color: #666;\n",
              "  }\n",
              "\n",
              "  .colab-df-quickchart {\n",
              "    background-color: var(--bg-color);\n",
              "    border: none;\n",
              "    border-radius: 50%;\n",
              "    cursor: pointer;\n",
              "    display: none;\n",
              "    fill: var(--fill-color);\n",
              "    height: 32px;\n",
              "    padding: 0;\n",
              "    width: 32px;\n",
              "  }\n",
              "\n",
              "  .colab-df-quickchart:hover {\n",
              "    background-color: var(--hover-bg-color);\n",
              "    box-shadow: 0 1px 2px rgba(60, 64, 67, 0.3), 0 1px 3px 1px rgba(60, 64, 67, 0.15);\n",
              "    fill: var(--button-hover-fill-color);\n",
              "  }\n",
              "\n",
              "  .colab-df-quickchart-complete:disabled,\n",
              "  .colab-df-quickchart-complete:disabled:hover {\n",
              "    background-color: var(--disabled-bg-color);\n",
              "    fill: var(--disabled-fill-color);\n",
              "    box-shadow: none;\n",
              "  }\n",
              "\n",
              "  .colab-df-spinner {\n",
              "    border: 2px solid var(--fill-color);\n",
              "    border-color: transparent;\n",
              "    border-bottom-color: var(--fill-color);\n",
              "    animation:\n",
              "      spin 1s steps(1) infinite;\n",
              "  }\n",
              "\n",
              "  @keyframes spin {\n",
              "    0% {\n",
              "      border-color: transparent;\n",
              "      border-bottom-color: var(--fill-color);\n",
              "      border-left-color: var(--fill-color);\n",
              "    }\n",
              "    20% {\n",
              "      border-color: transparent;\n",
              "      border-left-color: var(--fill-color);\n",
              "      border-top-color: var(--fill-color);\n",
              "    }\n",
              "    30% {\n",
              "      border-color: transparent;\n",
              "      border-left-color: var(--fill-color);\n",
              "      border-top-color: var(--fill-color);\n",
              "      border-right-color: var(--fill-color);\n",
              "    }\n",
              "    40% {\n",
              "      border-color: transparent;\n",
              "      border-right-color: var(--fill-color);\n",
              "      border-top-color: var(--fill-color);\n",
              "    }\n",
              "    60% {\n",
              "      border-color: transparent;\n",
              "      border-right-color: var(--fill-color);\n",
              "    }\n",
              "    80% {\n",
              "      border-color: transparent;\n",
              "      border-right-color: var(--fill-color);\n",
              "      border-bottom-color: var(--fill-color);\n",
              "    }\n",
              "    90% {\n",
              "      border-color: transparent;\n",
              "      border-bottom-color: var(--fill-color);\n",
              "    }\n",
              "  }\n",
              "</style>\n",
              "\n",
              "      <script>\n",
              "        async function quickchart(key) {\n",
              "          const quickchartButtonEl =\n",
              "            document.querySelector('#' + key + ' button');\n",
              "          quickchartButtonEl.disabled = true;  // To prevent multiple clicks.\n",
              "          quickchartButtonEl.classList.add('colab-df-spinner');\n",
              "          try {\n",
              "            const charts = await google.colab.kernel.invokeFunction(\n",
              "                'suggestCharts', [key], {});\n",
              "          } catch (error) {\n",
              "            console.error('Error during call to suggestCharts:', error);\n",
              "          }\n",
              "          quickchartButtonEl.classList.remove('colab-df-spinner');\n",
              "          quickchartButtonEl.classList.add('colab-df-quickchart-complete');\n",
              "        }\n",
              "        (() => {\n",
              "          let quickchartButtonEl =\n",
              "            document.querySelector('#df-f41b6d82-3c5d-4929-aae5-f73e8e35efbd button');\n",
              "          quickchartButtonEl.style.display =\n",
              "            google.colab.kernel.accessAllowed ? 'block' : 'none';\n",
              "        })();\n",
              "      </script>\n",
              "    </div>\n",
              "\n",
              "    </div>\n",
              "  </div>\n"
            ],
            "application/vnd.google.colaboratory.intrinsic+json": {
              "type": "dataframe",
              "variable_name": "df",
              "summary": "{\n  \"name\": \"df\",\n  \"rows\": 23171,\n  \"fields\": [\n    {\n      \"column\": \"Unnamed: 0\",\n      \"properties\": {\n        \"dtype\": \"number\",\n        \"std\": 6689,\n        \"min\": 0,\n        \"max\": 23170,\n        \"num_unique_values\": 23171,\n        \"samples\": [\n          17155,\n          10119,\n          18821\n        ],\n        \"semantic_type\": \"\",\n        \"description\": \"\"\n      }\n    },\n    {\n      \"column\": \"Airline Name\",\n      \"properties\": {\n        \"dtype\": \"category\",\n        \"num_unique_values\": 497,\n        \"samples\": [\n          \"Winair\",\n          \"airBaltic\",\n          \"Iberojet\"\n        ],\n        \"semantic_type\": \"\",\n        \"description\": \"\"\n      }\n    },\n    {\n      \"column\": \"Overall_Rating\",\n      \"properties\": {\n        \"dtype\": \"category\",\n        \"num_unique_values\": 10,\n        \"samples\": [\n          \"4\",\n          \"1\",\n          \"5\"\n        ],\n        \"semantic_type\": \"\",\n        \"description\": \"\"\n      }\n    },\n    {\n      \"column\": \"Review_Title\",\n      \"properties\": {\n        \"dtype\": \"string\",\n        \"num_unique_values\": 17219,\n        \"samples\": [\n          \"\\\"provide no after sales service\\\"\",\n          \"\\\"staff are very helpful\\\"\",\n          \"\\\"smooth and pleasant flight\\\"\"\n        ],\n        \"semantic_type\": \"\",\n        \"description\": \"\"\n      }\n    },\n    {\n      \"column\": \"Review Date\",\n      \"properties\": {\n        \"dtype\": \"category\",\n        \"num_unique_values\": 4557,\n        \"samples\": [\n          \"10th June 2022\",\n          \"9th November 2018\",\n          \"9th November 2016\"\n        ],\n        \"semantic_type\": \"\",\n        \"description\": \"\"\n      }\n    },\n    {\n      \"column\": \"Verified\",\n      \"properties\": {\n        \"dtype\": \"boolean\",\n        \"num_unique_values\": 2,\n        \"samples\": [\n          false,\n          true\n        ],\n        \"semantic_type\": \"\",\n        \"description\": \"\"\n      }\n    },\n    {\n      \"column\": \"Review\",\n      \"properties\": {\n        \"dtype\": \"string\",\n        \"num_unique_values\": 23046,\n        \"samples\": [\n          \"  Best airline for transatlantic travel with kids. I just traveled from Toronto to Berlin and back with two kids (5 and 7yrs old). The stopover in Iceland breaks up the trip more evenly (two medium duration flights), which was better for us than one really long and one really short flight. Also, kids get priority boarding, free food on the flight, a bag of interesting activities (stickers, games), and the entertainment system has a whole kid section. On our way back from Berlin we missed our connection because of a severe thunderstorm in Berlin (It was bad! Heavy winds and rain, thunder and lighting. I'm glad we didn't have to take off in those conditions). Once we arrived in Iceland and our flight to Toronto had left, Icelandair rebooked us on a flight for the next day and put us in a 5-star hotel for the night, with taxi, dinner, breakfast and lunch paid for. Our room had a view of the ocean and we had some time to explore the spectacular Icelandic coast. I was worried that we'd have to spend the night on a hard bench on the airport, instead we were treated to an extra day of vacation on this amazing island! Thank you, Icelandair!!\",\n          \"  We had booked a flight with Tigerair Australia for our soccer team to fly out from Sydney to Melbourne on Friday the 6th March 2020 for a soccer tournament. This flight was booked on the 20th of February 2020. After checking in the day before, we received a message from Tigerair on Friday the 6th of March at 9:30 am informing us that our flight has been cancelled \\\"due to poor weather conditions\\\" and that they had put us on the next a available flight which was on Saturday the 7th of March at 3:40 pm. However, we had already booked our hotel for Friday and our first soccer match of the tournament was on Saturday 11 am. After calling their customer service, we were told that they could not do anything about it other than provide a flight credit valid for 6 months. They also told us that we will not be given a refund as they cannot control the poor weather conditions. We were forced to book a last minute flight on the same day (Friday 6th of March) costing us $400 one way with Virgin Australia Airlines. It is interesting to know that only Tigerair had cancelled their flights for that day and no other airline did. Very poor customer service and will not book with them ever again. I hope they go bankrupt and in liquidation. It is also interesting that Tiger Airways Australia is a wholly owned subsidiary of Virgin Australia. Something fishy was definitely going on as the weather was perfectly fine on that day (both in Sydney and Melbourne).\"\n        ],\n        \"semantic_type\": \"\",\n        \"description\": \"\"\n      }\n    },\n    {\n      \"column\": \"Aircraft\",\n      \"properties\": {\n        \"dtype\": \"category\",\n        \"num_unique_values\": 1048,\n        \"samples\": [\n          \"ERJ175\",\n          \"A350-900 / Boeing 787-8\"\n        ],\n        \"semantic_type\": \"\",\n        \"description\": \"\"\n      }\n    },\n    {\n      \"column\": \"Type Of Traveller\",\n      \"properties\": {\n        \"dtype\": \"category\",\n        \"num_unique_values\": 4,\n        \"samples\": [\n          \"Couple Leisure\",\n          \"Family Leisure\"\n        ],\n        \"semantic_type\": \"\",\n        \"description\": \"\"\n      }\n    },\n    {\n      \"column\": \"Seat Type\",\n      \"properties\": {\n        \"dtype\": \"category\",\n        \"num_unique_values\": 4,\n        \"samples\": [\n          \"Business Class\",\n          \"First Class\"\n        ],\n        \"semantic_type\": \"\",\n        \"description\": \"\"\n      }\n    },\n    {\n      \"column\": \"Route\",\n      \"properties\": {\n        \"dtype\": \"string\",\n        \"num_unique_values\": 13607,\n        \"samples\": [\n          \"NWI to MAN\",\n          \"ZRH to CPT\"\n        ],\n        \"semantic_type\": \"\",\n        \"description\": \"\"\n      }\n    },\n    {\n      \"column\": \"Date Flown\",\n      \"properties\": {\n        \"dtype\": \"object\",\n        \"num_unique_values\": 109,\n        \"samples\": [\n          \"June 2016\",\n          \"September 2017\"\n        ],\n        \"semantic_type\": \"\",\n        \"description\": \"\"\n      }\n    },\n    {\n      \"column\": \"Seat Comfort\",\n      \"properties\": {\n        \"dtype\": \"number\",\n        \"std\": 1.4648439884751332,\n        \"min\": 0.0,\n        \"max\": 5.0,\n        \"num_unique_values\": 6,\n        \"samples\": [\n          4.0,\n          2.0\n        ],\n        \"semantic_type\": \"\",\n        \"description\": \"\"\n      }\n    },\n    {\n      \"column\": \"Cabin Staff Service\",\n      \"properties\": {\n        \"dtype\": \"number\",\n        \"std\": 1.60463149954037,\n        \"min\": 0.0,\n        \"max\": 5.0,\n        \"num_unique_values\": 6,\n        \"samples\": [\n          5.0,\n          2.0\n        ],\n        \"semantic_type\": \"\",\n        \"description\": \"\"\n      }\n    },\n    {\n      \"column\": \"Food & Beverages\",\n      \"properties\": {\n        \"dtype\": \"number\",\n        \"std\": 1.52631386366994,\n        \"min\": 0.0,\n        \"max\": 5.0,\n        \"num_unique_values\": 6,\n        \"samples\": [\n          4.0,\n          1.0\n        ],\n        \"semantic_type\": \"\",\n        \"description\": \"\"\n      }\n    },\n    {\n      \"column\": \"Ground Service\",\n      \"properties\": {\n        \"dtype\": \"number\",\n        \"std\": 1.5957469898363081,\n        \"min\": 1.0,\n        \"max\": 5.0,\n        \"num_unique_values\": 5,\n        \"samples\": [\n          1.0,\n          2.0\n        ],\n        \"semantic_type\": \"\",\n        \"description\": \"\"\n      }\n    },\n    {\n      \"column\": \"Inflight Entertainment\",\n      \"properties\": {\n        \"dtype\": \"number\",\n        \"std\": 1.4887575233477857,\n        \"min\": 0.0,\n        \"max\": 5.0,\n        \"num_unique_values\": 6,\n        \"samples\": [\n          1.0,\n          4.0\n        ],\n        \"semantic_type\": \"\",\n        \"description\": \"\"\n      }\n    },\n    {\n      \"column\": \"Wifi & Connectivity\",\n      \"properties\": {\n        \"dtype\": \"number\",\n        \"std\": 1.318800275152375,\n        \"min\": 0.0,\n        \"max\": 5.0,\n        \"num_unique_values\": 6,\n        \"samples\": [\n          1.0,\n          5.0\n        ],\n        \"semantic_type\": \"\",\n        \"description\": \"\"\n      }\n    },\n    {\n      \"column\": \"Value For Money\",\n      \"properties\": {\n        \"dtype\": \"number\",\n        \"std\": 1.594124816314879,\n        \"min\": 0.0,\n        \"max\": 5.0,\n        \"num_unique_values\": 6,\n        \"samples\": [\n          3.0,\n          2.0\n        ],\n        \"semantic_type\": \"\",\n        \"description\": \"\"\n      }\n    },\n    {\n      \"column\": \"Recommended\",\n      \"properties\": {\n        \"dtype\": \"category\",\n        \"num_unique_values\": 2,\n        \"samples\": [\n          \"no\",\n          \"yes\"\n        ],\n        \"semantic_type\": \"\",\n        \"description\": \"\"\n      }\n    }\n  ]\n}"
            }
          },
          "metadata": {},
          "execution_count": 88
        }
      ]
    },
    {
      "cell_type": "code",
      "source": [
        "df.info()"
      ],
      "metadata": {
        "colab": {
          "base_uri": "https://localhost:8080/"
        },
        "id": "AD-X3AiQiSP9",
        "outputId": "aa8001cf-93a6-45aa-e9b5-20f2baff7454"
      },
      "execution_count": 89,
      "outputs": [
        {
          "output_type": "stream",
          "name": "stdout",
          "text": [
            "<class 'pandas.core.frame.DataFrame'>\n",
            "RangeIndex: 23171 entries, 0 to 23170\n",
            "Data columns (total 20 columns):\n",
            " #   Column                  Non-Null Count  Dtype  \n",
            "---  ------                  --------------  -----  \n",
            " 0   Unnamed: 0              23171 non-null  int64  \n",
            " 1   Airline Name            23171 non-null  object \n",
            " 2   Overall_Rating          23171 non-null  object \n",
            " 3   Review_Title            23171 non-null  object \n",
            " 4   Review Date             23171 non-null  object \n",
            " 5   Verified                23171 non-null  bool   \n",
            " 6   Review                  23171 non-null  object \n",
            " 7   Aircraft                7129 non-null   object \n",
            " 8   Type Of Traveller       19433 non-null  object \n",
            " 9   Seat Type               22075 non-null  object \n",
            " 10  Route                   19343 non-null  object \n",
            " 11  Date Flown              19417 non-null  object \n",
            " 12  Seat Comfort            19016 non-null  float64\n",
            " 13  Cabin Staff Service     18911 non-null  float64\n",
            " 14  Food & Beverages        14500 non-null  float64\n",
            " 15  Ground Service          18378 non-null  float64\n",
            " 16  Inflight Entertainment  10829 non-null  float64\n",
            " 17  Wifi & Connectivity     5920 non-null   float64\n",
            " 18  Value For Money         22105 non-null  float64\n",
            " 19  Recommended             23171 non-null  object \n",
            "dtypes: bool(1), float64(7), int64(1), object(11)\n",
            "memory usage: 3.4+ MB\n"
          ]
        }
      ]
    },
    {
      "cell_type": "markdown",
      "source": [
        "The column of the dataset we are interested in are  \"Review\" that we want to use to predict \"Overall_Rating\". Other columns that could be useful for our task are the column \"Review_Title\" which we can concatenate to the full review and the the columns Recommended that contains yes if the overall experience is recommended by the user, not otherwise, that we can use to do some check to clean the dataset."
      ],
      "metadata": {
        "id": "E_Qq7knfiJ8R"
      }
    },
    {
      "cell_type": "code",
      "source": [
        "# see which are the Rating values in column Overall_Rating\n",
        "print(df['Overall_Rating'].unique())"
      ],
      "metadata": {
        "colab": {
          "base_uri": "https://localhost:8080/"
        },
        "id": "2MCOQlRjGOwY",
        "outputId": "cedb1c14-74ba-44ff-dd76-395473bad9d3"
      },
      "execution_count": 90,
      "outputs": [
        {
          "output_type": "stream",
          "name": "stdout",
          "text": [
            "['9' '1' '8' '2' '3' '5' '6' '7' '4' 'n']\n"
          ]
        }
      ]
    },
    {
      "cell_type": "code",
      "source": [
        "# print the count of each rating values\n",
        "print(df['Overall_Rating'].value_counts())"
      ],
      "metadata": {
        "colab": {
          "base_uri": "https://localhost:8080/"
        },
        "id": "CcPeg0HPGX4f",
        "outputId": "c2e67bd4-1df0-46c1-e55f-2910ae150404"
      },
      "execution_count": 91,
      "outputs": [
        {
          "output_type": "stream",
          "name": "stdout",
          "text": [
            "Overall_Rating\n",
            "1    11595\n",
            "2     2296\n",
            "9     1768\n",
            "8     1757\n",
            "3     1356\n",
            "7     1192\n",
            "4      859\n",
            "n      842\n",
            "5      830\n",
            "6      676\n",
            "Name: count, dtype: int64\n"
          ]
        }
      ]
    },
    {
      "cell_type": "code",
      "source": [
        "# type of elem in column Overall_Rating\n",
        "print(df['Overall_Rating'].dtype)"
      ],
      "metadata": {
        "colab": {
          "base_uri": "https://localhost:8080/"
        },
        "id": "aWFre0iYG0we",
        "outputId": "7bcefc05-68d0-44db-a0ab-00c1c9a4f0c7"
      },
      "execution_count": 92,
      "outputs": [
        {
          "output_type": "stream",
          "name": "stdout",
          "text": [
            "object\n"
          ]
        }
      ]
    },
    {
      "cell_type": "code",
      "source": [
        "# check for null values\n",
        "print(df.isnull().sum())"
      ],
      "metadata": {
        "colab": {
          "base_uri": "https://localhost:8080/"
        },
        "id": "6-bHElAwhYVD",
        "outputId": "deb35166-553c-4c13-896e-e261dee03b7a"
      },
      "execution_count": 93,
      "outputs": [
        {
          "output_type": "stream",
          "name": "stdout",
          "text": [
            "Unnamed: 0                    0\n",
            "Airline Name                  0\n",
            "Overall_Rating                0\n",
            "Review_Title                  0\n",
            "Review Date                   0\n",
            "Verified                      0\n",
            "Review                        0\n",
            "Aircraft                  16042\n",
            "Type Of Traveller          3738\n",
            "Seat Type                  1096\n",
            "Route                      3828\n",
            "Date Flown                 3754\n",
            "Seat Comfort               4155\n",
            "Cabin Staff Service        4260\n",
            "Food & Beverages           8671\n",
            "Ground Service             4793\n",
            "Inflight Entertainment    12342\n",
            "Wifi & Connectivity       17251\n",
            "Value For Money            1066\n",
            "Recommended                   0\n",
            "dtype: int64\n"
          ]
        }
      ]
    },
    {
      "cell_type": "code",
      "source": [
        "# check for duplicated values\n",
        "duplicates = df[df.duplicated()]\n",
        "print(f\"Total duplicate rows: {len(duplicates)}\")"
      ],
      "metadata": {
        "id": "HTzCoPaHCD8x",
        "outputId": "bda397d3-8336-4f75-b005-b7daa486f325",
        "colab": {
          "base_uri": "https://localhost:8080/"
        }
      },
      "execution_count": 94,
      "outputs": [
        {
          "output_type": "stream",
          "name": "stdout",
          "text": [
            "Total duplicate rows: 0\n"
          ]
        }
      ]
    },
    {
      "cell_type": "markdown",
      "source": [
        "First thing we noticed is that:\n",
        "\n",
        "1.   The Overall_Rating column takes values ​​from 1 to 9 and there are a bunch of missing values with values 'n' that we can remove\n",
        "2.   The dataset is very unbalanced w.r.t. to this column since there are much much more low rating values e.g. 1,2.\n",
        "3.   If we want to perform a binary classification task we need to partition the values ​​from 1 to 9 into two classes, one for negative reviews below a certain threshold and one for positive reviews above another threshold. We may consider to discard records with \"neutral\" values that are in the middle of these two classes."
      ],
      "metadata": {
        "id": "dkpgdRXejdyg"
      }
    },
    {
      "cell_type": "code",
      "source": [
        "# Remove all rows where Overall_Rating is 'n'\n",
        "df = df[df['Overall_Rating'] != 'n']\n",
        "print(df['Overall_Rating'].unique())"
      ],
      "metadata": {
        "id": "ifiCJyd7HDkX",
        "colab": {
          "base_uri": "https://localhost:8080/"
        },
        "outputId": "680b18d6-346d-4cf2-d45a-1b4cdea0a24d"
      },
      "execution_count": 95,
      "outputs": [
        {
          "output_type": "stream",
          "name": "stdout",
          "text": [
            "['9' '1' '8' '2' '3' '5' '6' '7' '4']\n"
          ]
        }
      ]
    },
    {
      "cell_type": "code",
      "source": [
        "df['Overall_Rating'] = df['Overall_Rating'].astype(int)\n",
        "print(df['Overall_Rating'].dtype)"
      ],
      "metadata": {
        "colab": {
          "base_uri": "https://localhost:8080/"
        },
        "id": "NLVZ9GLyl5Yo",
        "outputId": "b4842f78-fafe-49db-eeef-164992ffadd1"
      },
      "execution_count": 96,
      "outputs": [
        {
          "output_type": "stream",
          "name": "stdout",
          "text": [
            "int64\n"
          ]
        }
      ]
    },
    {
      "cell_type": "code",
      "source": [
        "# Remove neutral reviews\n",
        "df = df[df['Overall_Rating'] != 5]\n",
        "print(df['Overall_Rating'].unique())"
      ],
      "metadata": {
        "id": "dBTrkEDLW_O8",
        "colab": {
          "base_uri": "https://localhost:8080/"
        },
        "outputId": "26e9c460-158d-44b4-eb58-c2497f99689f"
      },
      "execution_count": 97,
      "outputs": [
        {
          "output_type": "stream",
          "name": "stdout",
          "text": [
            "[9 1 8 2 3 6 7 4]\n"
          ]
        }
      ]
    },
    {
      "cell_type": "markdown",
      "source": [
        "here we try to clean the dataset by removing those reviews that are not consistent, that is, they have a very low rating but are recommended or on the contrary they are not recommended despite having a high rating"
      ],
      "metadata": {
        "id": "RRfJ9tg1mO5s"
      }
    },
    {
      "cell_type": "code",
      "source": [
        "# rows with low rating but recommended\n",
        "inconsistent_low = df[(df['Overall_Rating'].astype(int) <= 4) & (df['Recommended'].str.lower() == 'yes')]\n",
        "print(\"🤨 Low rating but recommended:\")\n",
        "inconsistent_low[['Overall_Rating', 'Recommended', 'Review']].head()"
      ],
      "metadata": {
        "id": "p5gEsu28ENCD",
        "outputId": "1c4f39b5-2726-45fd-bcaf-af8c7c8fe53f",
        "colab": {
          "base_uri": "https://localhost:8080/",
          "height": 223
        }
      },
      "execution_count": 98,
      "outputs": [
        {
          "output_type": "stream",
          "name": "stdout",
          "text": [
            "🤨 Low rating but recommended:\n"
          ]
        },
        {
          "output_type": "execute_result",
          "data": {
            "text/plain": [
              "    Overall_Rating Recommended  \\\n",
              "15               1         yes   \n",
              "23               1         yes   \n",
              "31               1         yes   \n",
              "33               1         yes   \n",
              "41               1         yes   \n",
              "\n",
              "                                               Review  \n",
              "15    Frankfurt to Ljubljana. Flight was very comf...  \n",
              "23    Two very short flights with Adria Airways fr...  \n",
              "31    Tallinn to Stockholm with Adria Airways. Cle...  \n",
              "33    Two short flights with Adria Airways (Ljublj...  \n",
              "41  Excellent flights both ways with Adria Airways...  "
            ],
            "text/html": [
              "\n",
              "  <div id=\"df-6824ce55-6d57-4e01-a9bb-59a0aa161326\" class=\"colab-df-container\">\n",
              "    <div>\n",
              "<style scoped>\n",
              "    .dataframe tbody tr th:only-of-type {\n",
              "        vertical-align: middle;\n",
              "    }\n",
              "\n",
              "    .dataframe tbody tr th {\n",
              "        vertical-align: top;\n",
              "    }\n",
              "\n",
              "    .dataframe thead th {\n",
              "        text-align: right;\n",
              "    }\n",
              "</style>\n",
              "<table border=\"1\" class=\"dataframe\">\n",
              "  <thead>\n",
              "    <tr style=\"text-align: right;\">\n",
              "      <th></th>\n",
              "      <th>Overall_Rating</th>\n",
              "      <th>Recommended</th>\n",
              "      <th>Review</th>\n",
              "    </tr>\n",
              "  </thead>\n",
              "  <tbody>\n",
              "    <tr>\n",
              "      <th>15</th>\n",
              "      <td>1</td>\n",
              "      <td>yes</td>\n",
              "      <td>Frankfurt to Ljubljana. Flight was very comf...</td>\n",
              "    </tr>\n",
              "    <tr>\n",
              "      <th>23</th>\n",
              "      <td>1</td>\n",
              "      <td>yes</td>\n",
              "      <td>Two very short flights with Adria Airways fr...</td>\n",
              "    </tr>\n",
              "    <tr>\n",
              "      <th>31</th>\n",
              "      <td>1</td>\n",
              "      <td>yes</td>\n",
              "      <td>Tallinn to Stockholm with Adria Airways. Cle...</td>\n",
              "    </tr>\n",
              "    <tr>\n",
              "      <th>33</th>\n",
              "      <td>1</td>\n",
              "      <td>yes</td>\n",
              "      <td>Two short flights with Adria Airways (Ljublj...</td>\n",
              "    </tr>\n",
              "    <tr>\n",
              "      <th>41</th>\n",
              "      <td>1</td>\n",
              "      <td>yes</td>\n",
              "      <td>Excellent flights both ways with Adria Airways...</td>\n",
              "    </tr>\n",
              "  </tbody>\n",
              "</table>\n",
              "</div>\n",
              "    <div class=\"colab-df-buttons\">\n",
              "\n",
              "  <div class=\"colab-df-container\">\n",
              "    <button class=\"colab-df-convert\" onclick=\"convertToInteractive('df-6824ce55-6d57-4e01-a9bb-59a0aa161326')\"\n",
              "            title=\"Convert this dataframe to an interactive table.\"\n",
              "            style=\"display:none;\">\n",
              "\n",
              "  <svg xmlns=\"http://www.w3.org/2000/svg\" height=\"24px\" viewBox=\"0 -960 960 960\">\n",
              "    <path d=\"M120-120v-720h720v720H120Zm60-500h600v-160H180v160Zm220 220h160v-160H400v160Zm0 220h160v-160H400v160ZM180-400h160v-160H180v160Zm440 0h160v-160H620v160ZM180-180h160v-160H180v160Zm440 0h160v-160H620v160Z\"/>\n",
              "  </svg>\n",
              "    </button>\n",
              "\n",
              "  <style>\n",
              "    .colab-df-container {\n",
              "      display:flex;\n",
              "      gap: 12px;\n",
              "    }\n",
              "\n",
              "    .colab-df-convert {\n",
              "      background-color: #E8F0FE;\n",
              "      border: none;\n",
              "      border-radius: 50%;\n",
              "      cursor: pointer;\n",
              "      display: none;\n",
              "      fill: #1967D2;\n",
              "      height: 32px;\n",
              "      padding: 0 0 0 0;\n",
              "      width: 32px;\n",
              "    }\n",
              "\n",
              "    .colab-df-convert:hover {\n",
              "      background-color: #E2EBFA;\n",
              "      box-shadow: 0px 1px 2px rgba(60, 64, 67, 0.3), 0px 1px 3px 1px rgba(60, 64, 67, 0.15);\n",
              "      fill: #174EA6;\n",
              "    }\n",
              "\n",
              "    .colab-df-buttons div {\n",
              "      margin-bottom: 4px;\n",
              "    }\n",
              "\n",
              "    [theme=dark] .colab-df-convert {\n",
              "      background-color: #3B4455;\n",
              "      fill: #D2E3FC;\n",
              "    }\n",
              "\n",
              "    [theme=dark] .colab-df-convert:hover {\n",
              "      background-color: #434B5C;\n",
              "      box-shadow: 0px 1px 3px 1px rgba(0, 0, 0, 0.15);\n",
              "      filter: drop-shadow(0px 1px 2px rgba(0, 0, 0, 0.3));\n",
              "      fill: #FFFFFF;\n",
              "    }\n",
              "  </style>\n",
              "\n",
              "    <script>\n",
              "      const buttonEl =\n",
              "        document.querySelector('#df-6824ce55-6d57-4e01-a9bb-59a0aa161326 button.colab-df-convert');\n",
              "      buttonEl.style.display =\n",
              "        google.colab.kernel.accessAllowed ? 'block' : 'none';\n",
              "\n",
              "      async function convertToInteractive(key) {\n",
              "        const element = document.querySelector('#df-6824ce55-6d57-4e01-a9bb-59a0aa161326');\n",
              "        const dataTable =\n",
              "          await google.colab.kernel.invokeFunction('convertToInteractive',\n",
              "                                                    [key], {});\n",
              "        if (!dataTable) return;\n",
              "\n",
              "        const docLinkHtml = 'Like what you see? Visit the ' +\n",
              "          '<a target=\"_blank\" href=https://colab.research.google.com/notebooks/data_table.ipynb>data table notebook</a>'\n",
              "          + ' to learn more about interactive tables.';\n",
              "        element.innerHTML = '';\n",
              "        dataTable['output_type'] = 'display_data';\n",
              "        await google.colab.output.renderOutput(dataTable, element);\n",
              "        const docLink = document.createElement('div');\n",
              "        docLink.innerHTML = docLinkHtml;\n",
              "        element.appendChild(docLink);\n",
              "      }\n",
              "    </script>\n",
              "  </div>\n",
              "\n",
              "\n",
              "    <div id=\"df-f6adb1c2-fc94-4588-82ab-e2322452b39a\">\n",
              "      <button class=\"colab-df-quickchart\" onclick=\"quickchart('df-f6adb1c2-fc94-4588-82ab-e2322452b39a')\"\n",
              "                title=\"Suggest charts\"\n",
              "                style=\"display:none;\">\n",
              "\n",
              "<svg xmlns=\"http://www.w3.org/2000/svg\" height=\"24px\"viewBox=\"0 0 24 24\"\n",
              "     width=\"24px\">\n",
              "    <g>\n",
              "        <path d=\"M19 3H5c-1.1 0-2 .9-2 2v14c0 1.1.9 2 2 2h14c1.1 0 2-.9 2-2V5c0-1.1-.9-2-2-2zM9 17H7v-7h2v7zm4 0h-2V7h2v10zm4 0h-2v-4h2v4z\"/>\n",
              "    </g>\n",
              "</svg>\n",
              "      </button>\n",
              "\n",
              "<style>\n",
              "  .colab-df-quickchart {\n",
              "      --bg-color: #E8F0FE;\n",
              "      --fill-color: #1967D2;\n",
              "      --hover-bg-color: #E2EBFA;\n",
              "      --hover-fill-color: #174EA6;\n",
              "      --disabled-fill-color: #AAA;\n",
              "      --disabled-bg-color: #DDD;\n",
              "  }\n",
              "\n",
              "  [theme=dark] .colab-df-quickchart {\n",
              "      --bg-color: #3B4455;\n",
              "      --fill-color: #D2E3FC;\n",
              "      --hover-bg-color: #434B5C;\n",
              "      --hover-fill-color: #FFFFFF;\n",
              "      --disabled-bg-color: #3B4455;\n",
              "      --disabled-fill-color: #666;\n",
              "  }\n",
              "\n",
              "  .colab-df-quickchart {\n",
              "    background-color: var(--bg-color);\n",
              "    border: none;\n",
              "    border-radius: 50%;\n",
              "    cursor: pointer;\n",
              "    display: none;\n",
              "    fill: var(--fill-color);\n",
              "    height: 32px;\n",
              "    padding: 0;\n",
              "    width: 32px;\n",
              "  }\n",
              "\n",
              "  .colab-df-quickchart:hover {\n",
              "    background-color: var(--hover-bg-color);\n",
              "    box-shadow: 0 1px 2px rgba(60, 64, 67, 0.3), 0 1px 3px 1px rgba(60, 64, 67, 0.15);\n",
              "    fill: var(--button-hover-fill-color);\n",
              "  }\n",
              "\n",
              "  .colab-df-quickchart-complete:disabled,\n",
              "  .colab-df-quickchart-complete:disabled:hover {\n",
              "    background-color: var(--disabled-bg-color);\n",
              "    fill: var(--disabled-fill-color);\n",
              "    box-shadow: none;\n",
              "  }\n",
              "\n",
              "  .colab-df-spinner {\n",
              "    border: 2px solid var(--fill-color);\n",
              "    border-color: transparent;\n",
              "    border-bottom-color: var(--fill-color);\n",
              "    animation:\n",
              "      spin 1s steps(1) infinite;\n",
              "  }\n",
              "\n",
              "  @keyframes spin {\n",
              "    0% {\n",
              "      border-color: transparent;\n",
              "      border-bottom-color: var(--fill-color);\n",
              "      border-left-color: var(--fill-color);\n",
              "    }\n",
              "    20% {\n",
              "      border-color: transparent;\n",
              "      border-left-color: var(--fill-color);\n",
              "      border-top-color: var(--fill-color);\n",
              "    }\n",
              "    30% {\n",
              "      border-color: transparent;\n",
              "      border-left-color: var(--fill-color);\n",
              "      border-top-color: var(--fill-color);\n",
              "      border-right-color: var(--fill-color);\n",
              "    }\n",
              "    40% {\n",
              "      border-color: transparent;\n",
              "      border-right-color: var(--fill-color);\n",
              "      border-top-color: var(--fill-color);\n",
              "    }\n",
              "    60% {\n",
              "      border-color: transparent;\n",
              "      border-right-color: var(--fill-color);\n",
              "    }\n",
              "    80% {\n",
              "      border-color: transparent;\n",
              "      border-right-color: var(--fill-color);\n",
              "      border-bottom-color: var(--fill-color);\n",
              "    }\n",
              "    90% {\n",
              "      border-color: transparent;\n",
              "      border-bottom-color: var(--fill-color);\n",
              "    }\n",
              "  }\n",
              "</style>\n",
              "\n",
              "      <script>\n",
              "        async function quickchart(key) {\n",
              "          const quickchartButtonEl =\n",
              "            document.querySelector('#' + key + ' button');\n",
              "          quickchartButtonEl.disabled = true;  // To prevent multiple clicks.\n",
              "          quickchartButtonEl.classList.add('colab-df-spinner');\n",
              "          try {\n",
              "            const charts = await google.colab.kernel.invokeFunction(\n",
              "                'suggestCharts', [key], {});\n",
              "          } catch (error) {\n",
              "            console.error('Error during call to suggestCharts:', error);\n",
              "          }\n",
              "          quickchartButtonEl.classList.remove('colab-df-spinner');\n",
              "          quickchartButtonEl.classList.add('colab-df-quickchart-complete');\n",
              "        }\n",
              "        (() => {\n",
              "          let quickchartButtonEl =\n",
              "            document.querySelector('#df-f6adb1c2-fc94-4588-82ab-e2322452b39a button');\n",
              "          quickchartButtonEl.style.display =\n",
              "            google.colab.kernel.accessAllowed ? 'block' : 'none';\n",
              "        })();\n",
              "      </script>\n",
              "    </div>\n",
              "\n",
              "    </div>\n",
              "  </div>\n"
            ],
            "application/vnd.google.colaboratory.intrinsic+json": {
              "type": "dataframe",
              "summary": "{\n  \"name\": \"inconsistent_low[['Overall_Rating', 'Recommended', 'Review']]\",\n  \"rows\": 5,\n  \"fields\": [\n    {\n      \"column\": \"Overall_Rating\",\n      \"properties\": {\n        \"dtype\": \"number\",\n        \"std\": 0,\n        \"min\": 1,\n        \"max\": 1,\n        \"num_unique_values\": 1,\n        \"samples\": [\n          1\n        ],\n        \"semantic_type\": \"\",\n        \"description\": \"\"\n      }\n    },\n    {\n      \"column\": \"Recommended\",\n      \"properties\": {\n        \"dtype\": \"category\",\n        \"num_unique_values\": 1,\n        \"samples\": [\n          \"yes\"\n        ],\n        \"semantic_type\": \"\",\n        \"description\": \"\"\n      }\n    },\n    {\n      \"column\": \"Review\",\n      \"properties\": {\n        \"dtype\": \"string\",\n        \"num_unique_values\": 5,\n        \"samples\": [\n          \"  Two very short flights with Adria Airways from Ljubljana to Vienna and back. Both on time. CRJ aircrafts new, cabin fresh and seats comfortable. On both flights welcome from the flight deck with all information about the flight before take-off. Cabin crews polite and professional. Overall nice and comfortable flights.\"\n        ],\n        \"semantic_type\": \"\",\n        \"description\": \"\"\n      }\n    }\n  ]\n}"
            }
          },
          "metadata": {},
          "execution_count": 98
        }
      ]
    },
    {
      "cell_type": "code",
      "source": [
        "# how many are these incosistent line?\n",
        "num_inconsistent_low = len(inconsistent_low)\n",
        "print(f\"Inconsistent (Low Rating, Recommended): {num_inconsistent_low}\")"
      ],
      "metadata": {
        "id": "CgGMzNgsEbNH",
        "outputId": "ff215f66-61bc-4788-85de-019aa15dcffd",
        "colab": {
          "base_uri": "https://localhost:8080/"
        }
      },
      "execution_count": 99,
      "outputs": [
        {
          "output_type": "stream",
          "name": "stdout",
          "text": [
            "Inconsistent (Low Rating, Recommended): 2434\n"
          ]
        }
      ]
    },
    {
      "cell_type": "code",
      "source": [
        "# rows with high rating but not recommended\n",
        "inconsistent_high = df[(df['Overall_Rating'].astype(int) >= 6) & (df['Recommended'].str.lower() == 'no')]\n",
        "print(\"🤔 High rating but not recommended:\")\n",
        "inconsistent_high[['Overall_Rating', 'Recommended', 'Review']].head()"
      ],
      "metadata": {
        "id": "wS3ivX_nEoad",
        "outputId": "ddafd699-1008-43fd-c901-9c1f37505dce",
        "colab": {
          "base_uri": "https://localhost:8080/",
          "height": 223
        }
      },
      "execution_count": 100,
      "outputs": [
        {
          "output_type": "stream",
          "name": "stdout",
          "text": [
            "🤔 High rating but not recommended:\n"
          ]
        },
        {
          "output_type": "execute_result",
          "data": {
            "text/plain": [
              "     Overall_Rating Recommended  \\\n",
              "135               6          no   \n",
              "237               6          no   \n",
              "283               6          no   \n",
              "403               6          no   \n",
              "508               8          no   \n",
              "\n",
              "                                                Review  \n",
              "135   Larnaca to Athens. I fly Aegean twice weekly ...  \n",
              "237    There was nothing wrong with the flight itse...  \n",
              "283    I had paid $50 in advance (on top of my airf...  \n",
              "403    One of the best things about AR is that they...  \n",
              "508  Puerto Escondido to Mexico City on Aeromar. Sm...  "
            ],
            "text/html": [
              "\n",
              "  <div id=\"df-832aad76-85bb-44e6-8a09-f7a3f0f24bfb\" class=\"colab-df-container\">\n",
              "    <div>\n",
              "<style scoped>\n",
              "    .dataframe tbody tr th:only-of-type {\n",
              "        vertical-align: middle;\n",
              "    }\n",
              "\n",
              "    .dataframe tbody tr th {\n",
              "        vertical-align: top;\n",
              "    }\n",
              "\n",
              "    .dataframe thead th {\n",
              "        text-align: right;\n",
              "    }\n",
              "</style>\n",
              "<table border=\"1\" class=\"dataframe\">\n",
              "  <thead>\n",
              "    <tr style=\"text-align: right;\">\n",
              "      <th></th>\n",
              "      <th>Overall_Rating</th>\n",
              "      <th>Recommended</th>\n",
              "      <th>Review</th>\n",
              "    </tr>\n",
              "  </thead>\n",
              "  <tbody>\n",
              "    <tr>\n",
              "      <th>135</th>\n",
              "      <td>6</td>\n",
              "      <td>no</td>\n",
              "      <td>Larnaca to Athens. I fly Aegean twice weekly ...</td>\n",
              "    </tr>\n",
              "    <tr>\n",
              "      <th>237</th>\n",
              "      <td>6</td>\n",
              "      <td>no</td>\n",
              "      <td>There was nothing wrong with the flight itse...</td>\n",
              "    </tr>\n",
              "    <tr>\n",
              "      <th>283</th>\n",
              "      <td>6</td>\n",
              "      <td>no</td>\n",
              "      <td>I had paid $50 in advance (on top of my airf...</td>\n",
              "    </tr>\n",
              "    <tr>\n",
              "      <th>403</th>\n",
              "      <td>6</td>\n",
              "      <td>no</td>\n",
              "      <td>One of the best things about AR is that they...</td>\n",
              "    </tr>\n",
              "    <tr>\n",
              "      <th>508</th>\n",
              "      <td>8</td>\n",
              "      <td>no</td>\n",
              "      <td>Puerto Escondido to Mexico City on Aeromar. Sm...</td>\n",
              "    </tr>\n",
              "  </tbody>\n",
              "</table>\n",
              "</div>\n",
              "    <div class=\"colab-df-buttons\">\n",
              "\n",
              "  <div class=\"colab-df-container\">\n",
              "    <button class=\"colab-df-convert\" onclick=\"convertToInteractive('df-832aad76-85bb-44e6-8a09-f7a3f0f24bfb')\"\n",
              "            title=\"Convert this dataframe to an interactive table.\"\n",
              "            style=\"display:none;\">\n",
              "\n",
              "  <svg xmlns=\"http://www.w3.org/2000/svg\" height=\"24px\" viewBox=\"0 -960 960 960\">\n",
              "    <path d=\"M120-120v-720h720v720H120Zm60-500h600v-160H180v160Zm220 220h160v-160H400v160Zm0 220h160v-160H400v160ZM180-400h160v-160H180v160Zm440 0h160v-160H620v160ZM180-180h160v-160H180v160Zm440 0h160v-160H620v160Z\"/>\n",
              "  </svg>\n",
              "    </button>\n",
              "\n",
              "  <style>\n",
              "    .colab-df-container {\n",
              "      display:flex;\n",
              "      gap: 12px;\n",
              "    }\n",
              "\n",
              "    .colab-df-convert {\n",
              "      background-color: #E8F0FE;\n",
              "      border: none;\n",
              "      border-radius: 50%;\n",
              "      cursor: pointer;\n",
              "      display: none;\n",
              "      fill: #1967D2;\n",
              "      height: 32px;\n",
              "      padding: 0 0 0 0;\n",
              "      width: 32px;\n",
              "    }\n",
              "\n",
              "    .colab-df-convert:hover {\n",
              "      background-color: #E2EBFA;\n",
              "      box-shadow: 0px 1px 2px rgba(60, 64, 67, 0.3), 0px 1px 3px 1px rgba(60, 64, 67, 0.15);\n",
              "      fill: #174EA6;\n",
              "    }\n",
              "\n",
              "    .colab-df-buttons div {\n",
              "      margin-bottom: 4px;\n",
              "    }\n",
              "\n",
              "    [theme=dark] .colab-df-convert {\n",
              "      background-color: #3B4455;\n",
              "      fill: #D2E3FC;\n",
              "    }\n",
              "\n",
              "    [theme=dark] .colab-df-convert:hover {\n",
              "      background-color: #434B5C;\n",
              "      box-shadow: 0px 1px 3px 1px rgba(0, 0, 0, 0.15);\n",
              "      filter: drop-shadow(0px 1px 2px rgba(0, 0, 0, 0.3));\n",
              "      fill: #FFFFFF;\n",
              "    }\n",
              "  </style>\n",
              "\n",
              "    <script>\n",
              "      const buttonEl =\n",
              "        document.querySelector('#df-832aad76-85bb-44e6-8a09-f7a3f0f24bfb button.colab-df-convert');\n",
              "      buttonEl.style.display =\n",
              "        google.colab.kernel.accessAllowed ? 'block' : 'none';\n",
              "\n",
              "      async function convertToInteractive(key) {\n",
              "        const element = document.querySelector('#df-832aad76-85bb-44e6-8a09-f7a3f0f24bfb');\n",
              "        const dataTable =\n",
              "          await google.colab.kernel.invokeFunction('convertToInteractive',\n",
              "                                                    [key], {});\n",
              "        if (!dataTable) return;\n",
              "\n",
              "        const docLinkHtml = 'Like what you see? Visit the ' +\n",
              "          '<a target=\"_blank\" href=https://colab.research.google.com/notebooks/data_table.ipynb>data table notebook</a>'\n",
              "          + ' to learn more about interactive tables.';\n",
              "        element.innerHTML = '';\n",
              "        dataTable['output_type'] = 'display_data';\n",
              "        await google.colab.output.renderOutput(dataTable, element);\n",
              "        const docLink = document.createElement('div');\n",
              "        docLink.innerHTML = docLinkHtml;\n",
              "        element.appendChild(docLink);\n",
              "      }\n",
              "    </script>\n",
              "  </div>\n",
              "\n",
              "\n",
              "    <div id=\"df-75349790-2f5d-4696-b091-b010eef013b6\">\n",
              "      <button class=\"colab-df-quickchart\" onclick=\"quickchart('df-75349790-2f5d-4696-b091-b010eef013b6')\"\n",
              "                title=\"Suggest charts\"\n",
              "                style=\"display:none;\">\n",
              "\n",
              "<svg xmlns=\"http://www.w3.org/2000/svg\" height=\"24px\"viewBox=\"0 0 24 24\"\n",
              "     width=\"24px\">\n",
              "    <g>\n",
              "        <path d=\"M19 3H5c-1.1 0-2 .9-2 2v14c0 1.1.9 2 2 2h14c1.1 0 2-.9 2-2V5c0-1.1-.9-2-2-2zM9 17H7v-7h2v7zm4 0h-2V7h2v10zm4 0h-2v-4h2v4z\"/>\n",
              "    </g>\n",
              "</svg>\n",
              "      </button>\n",
              "\n",
              "<style>\n",
              "  .colab-df-quickchart {\n",
              "      --bg-color: #E8F0FE;\n",
              "      --fill-color: #1967D2;\n",
              "      --hover-bg-color: #E2EBFA;\n",
              "      --hover-fill-color: #174EA6;\n",
              "      --disabled-fill-color: #AAA;\n",
              "      --disabled-bg-color: #DDD;\n",
              "  }\n",
              "\n",
              "  [theme=dark] .colab-df-quickchart {\n",
              "      --bg-color: #3B4455;\n",
              "      --fill-color: #D2E3FC;\n",
              "      --hover-bg-color: #434B5C;\n",
              "      --hover-fill-color: #FFFFFF;\n",
              "      --disabled-bg-color: #3B4455;\n",
              "      --disabled-fill-color: #666;\n",
              "  }\n",
              "\n",
              "  .colab-df-quickchart {\n",
              "    background-color: var(--bg-color);\n",
              "    border: none;\n",
              "    border-radius: 50%;\n",
              "    cursor: pointer;\n",
              "    display: none;\n",
              "    fill: var(--fill-color);\n",
              "    height: 32px;\n",
              "    padding: 0;\n",
              "    width: 32px;\n",
              "  }\n",
              "\n",
              "  .colab-df-quickchart:hover {\n",
              "    background-color: var(--hover-bg-color);\n",
              "    box-shadow: 0 1px 2px rgba(60, 64, 67, 0.3), 0 1px 3px 1px rgba(60, 64, 67, 0.15);\n",
              "    fill: var(--button-hover-fill-color);\n",
              "  }\n",
              "\n",
              "  .colab-df-quickchart-complete:disabled,\n",
              "  .colab-df-quickchart-complete:disabled:hover {\n",
              "    background-color: var(--disabled-bg-color);\n",
              "    fill: var(--disabled-fill-color);\n",
              "    box-shadow: none;\n",
              "  }\n",
              "\n",
              "  .colab-df-spinner {\n",
              "    border: 2px solid var(--fill-color);\n",
              "    border-color: transparent;\n",
              "    border-bottom-color: var(--fill-color);\n",
              "    animation:\n",
              "      spin 1s steps(1) infinite;\n",
              "  }\n",
              "\n",
              "  @keyframes spin {\n",
              "    0% {\n",
              "      border-color: transparent;\n",
              "      border-bottom-color: var(--fill-color);\n",
              "      border-left-color: var(--fill-color);\n",
              "    }\n",
              "    20% {\n",
              "      border-color: transparent;\n",
              "      border-left-color: var(--fill-color);\n",
              "      border-top-color: var(--fill-color);\n",
              "    }\n",
              "    30% {\n",
              "      border-color: transparent;\n",
              "      border-left-color: var(--fill-color);\n",
              "      border-top-color: var(--fill-color);\n",
              "      border-right-color: var(--fill-color);\n",
              "    }\n",
              "    40% {\n",
              "      border-color: transparent;\n",
              "      border-right-color: var(--fill-color);\n",
              "      border-top-color: var(--fill-color);\n",
              "    }\n",
              "    60% {\n",
              "      border-color: transparent;\n",
              "      border-right-color: var(--fill-color);\n",
              "    }\n",
              "    80% {\n",
              "      border-color: transparent;\n",
              "      border-right-color: var(--fill-color);\n",
              "      border-bottom-color: var(--fill-color);\n",
              "    }\n",
              "    90% {\n",
              "      border-color: transparent;\n",
              "      border-bottom-color: var(--fill-color);\n",
              "    }\n",
              "  }\n",
              "</style>\n",
              "\n",
              "      <script>\n",
              "        async function quickchart(key) {\n",
              "          const quickchartButtonEl =\n",
              "            document.querySelector('#' + key + ' button');\n",
              "          quickchartButtonEl.disabled = true;  // To prevent multiple clicks.\n",
              "          quickchartButtonEl.classList.add('colab-df-spinner');\n",
              "          try {\n",
              "            const charts = await google.colab.kernel.invokeFunction(\n",
              "                'suggestCharts', [key], {});\n",
              "          } catch (error) {\n",
              "            console.error('Error during call to suggestCharts:', error);\n",
              "          }\n",
              "          quickchartButtonEl.classList.remove('colab-df-spinner');\n",
              "          quickchartButtonEl.classList.add('colab-df-quickchart-complete');\n",
              "        }\n",
              "        (() => {\n",
              "          let quickchartButtonEl =\n",
              "            document.querySelector('#df-75349790-2f5d-4696-b091-b010eef013b6 button');\n",
              "          quickchartButtonEl.style.display =\n",
              "            google.colab.kernel.accessAllowed ? 'block' : 'none';\n",
              "        })();\n",
              "      </script>\n",
              "    </div>\n",
              "\n",
              "    </div>\n",
              "  </div>\n"
            ],
            "application/vnd.google.colaboratory.intrinsic+json": {
              "type": "dataframe",
              "summary": "{\n  \"name\": \"inconsistent_high[['Overall_Rating', 'Recommended', 'Review']]\",\n  \"rows\": 5,\n  \"fields\": [\n    {\n      \"column\": \"Overall_Rating\",\n      \"properties\": {\n        \"dtype\": \"number\",\n        \"std\": 0,\n        \"min\": 6,\n        \"max\": 8,\n        \"num_unique_values\": 2,\n        \"samples\": [\n          8,\n          6\n        ],\n        \"semantic_type\": \"\",\n        \"description\": \"\"\n      }\n    },\n    {\n      \"column\": \"Recommended\",\n      \"properties\": {\n        \"dtype\": \"category\",\n        \"num_unique_values\": 1,\n        \"samples\": [\n          \"no\"\n        ],\n        \"semantic_type\": \"\",\n        \"description\": \"\"\n      }\n    },\n    {\n      \"column\": \"Review\",\n      \"properties\": {\n        \"dtype\": \"string\",\n        \"num_unique_values\": 5,\n        \"samples\": [\n          \"  There was nothing wrong with the flight itself per-se - it took off and landed on time, generally calm. Terminal 2 security at Heathrow was calm, although amenities and shops quite poor - since Boots closed, you can't buy water anywhere for less than \\u00a32 which is extortionate. Boarding felt a bit early, but we didn't take off at departure time as it was quite slow - this was because there was only one gate agent checking in everyone including premium passengers and those requiring assistance, although automatic gates were used. Seats were above average comfortable for short-haul, on the way our was old-style so more padding and quite comfortable but on the way back was slimline but fine for an hours flight time - strangely the seat pocket in front had been sewn up so no where to store small belongings, which felt a tad low-cost despite the premium prices charged for this flight. Cabin-crew weren't especially warm and friendly and seemed rather unmotivated, they did pass through the cabin quickly offering the buy-on-board snacks and drinks but no menu was offered and it was almost like it was just a formality and seemed a bit surprised or put-out that some people actually wanted any like my neighbour in my seat. Buy-on-board products didn't look good quality from looking online, felt very expensive for what they were in comparison to other carriers. My biggest issue though is Aer Lingus charge quite a premium to fly with them against the only other carrier they compete with between the two cities, so they're not anywhere near cheap - yet it feels like a low-cost basic experience. I think even a complimentary snack and some water is the least the should offer as their sister airline BA now do in short-haul economy given the premium charge. I would fly with them again only if they were the only better option as on this route.\"\n        ],\n        \"semantic_type\": \"\",\n        \"description\": \"\"\n      }\n    }\n  ]\n}"
            }
          },
          "metadata": {},
          "execution_count": 100
        }
      ]
    },
    {
      "cell_type": "code",
      "source": [
        "num_inconsistent_high = len(inconsistent_high)\n",
        "print(f\"Inconsistent (High Rating, Not Recommended): {num_inconsistent_high}\")"
      ],
      "metadata": {
        "id": "zdhqQb9x6n27",
        "outputId": "588919de-0b41-466f-a465-11087e21e3d8",
        "colab": {
          "base_uri": "https://localhost:8080/"
        }
      },
      "execution_count": 101,
      "outputs": [
        {
          "output_type": "stream",
          "name": "stdout",
          "text": [
            "Inconsistent (High Rating, Not Recommended): 288\n"
          ]
        }
      ]
    },
    {
      "cell_type": "markdown",
      "source": [
        "Want to remove this inconsistent line"
      ],
      "metadata": {
        "id": "OKeR2tFxn1F3"
      }
    },
    {
      "cell_type": "code",
      "source": [
        "# Define boolean masks for inconsistencies\n",
        "mask_low = (df['Overall_Rating'].astype(int) <= 4) & (df['Recommended'].str.lower() == 'yes')\n",
        "mask_high = (df['Overall_Rating'].astype(int) >= 6) & (df['Recommended'].str.lower() == 'no')\n",
        "\n",
        "# Combine the two masks\n",
        "inconsistent_mask = mask_low | mask_high\n",
        "\n",
        "print(f\"Original size: {len(df)}\")\n",
        "\n",
        "# Drop those rows from df\n",
        "df = df[~inconsistent_mask].reset_index(drop=True)\n",
        "\n",
        "print(f\"New size after removing inconsistencies: {len(df)}\")"
      ],
      "metadata": {
        "id": "HJ7FjQY67g5V",
        "outputId": "e4a5251c-350b-4bd1-978d-1a3dd0987aed",
        "colab": {
          "base_uri": "https://localhost:8080/"
        }
      },
      "execution_count": 102,
      "outputs": [
        {
          "output_type": "stream",
          "name": "stdout",
          "text": [
            "Original size: 21499\n",
            "New size after removing inconsistencies: 18777\n"
          ]
        }
      ]
    },
    {
      "cell_type": "code",
      "source": [
        "# print the new count for each rating values\n",
        "print(df['Overall_Rating'].value_counts())"
      ],
      "metadata": {
        "colab": {
          "base_uri": "https://localhost:8080/"
        },
        "id": "FlojRHr9ix9U",
        "outputId": "0ef4d95d-808d-4603-8655-aa477a7d67ce"
      },
      "execution_count": 103,
      "outputs": [
        {
          "output_type": "stream",
          "name": "stdout",
          "text": [
            "Overall_Rating\n",
            "1    9327\n",
            "2    2264\n",
            "9    1759\n",
            "8    1722\n",
            "3    1304\n",
            "7    1130\n",
            "4     777\n",
            "6     494\n",
            "Name: count, dtype: int64\n"
          ]
        }
      ]
    },
    {
      "cell_type": "markdown",
      "source": [
        "Here some basic pre-processing"
      ],
      "metadata": {
        "id": "dyTuNF-AjQFC"
      }
    },
    {
      "cell_type": "code",
      "source": [
        "# Concatenate Review_Title with Review at the beginning, remove \"\" in the Title before concatenating\n",
        "# The title may provide useful information about the sentiment of the review\n",
        "df['Review'] = df['Review_Title'].str.strip('\"') + ' ' + df['Review']\n",
        "\n",
        "# Map Overall_Rating to Sentiment\n",
        "def rating_to_sentiment(rating):\n",
        "    if rating <= 4:\n",
        "        return 'Negative'\n",
        "    elif rating >= 6:\n",
        "        return 'Positive'\n",
        "\n",
        "# Apply the function to create the 'Sentiment' column\n",
        "df['Sentiment'] = df['Overall_Rating'].apply(rating_to_sentiment)\n",
        "\n",
        "# Convert to lowercase\n",
        "df['Review'] = df['Review'].apply(lambda x: x.lower())\n",
        "\n",
        "# Remove special characters (keep only letters, numbers, spaces and also !,?and .)\n",
        "df['Review'] = df['Review'].apply(lambda x: re.sub(r'[^a-zA-Z0-9\\s!?.]', '', x))\n",
        "\n",
        "# View the result\n",
        "df[['Review', 'Overall_Rating', 'Sentiment']].head()"
      ],
      "metadata": {
        "colab": {
          "base_uri": "https://localhost:8080/",
          "height": 206
        },
        "id": "wRvuL7ytEUnv",
        "outputId": "97de0fb1-e9d2-4e6f-a281-3d198810c6c8"
      },
      "execution_count": 104,
      "outputs": [
        {
          "output_type": "execute_result",
          "data": {
            "text/plain": [
              "                                              Review  Overall_Rating Sentiment\n",
              "0  pretty decent airline   moroni to moheli. turn...               9  Positive\n",
              "1  not a good airline  moroni to anjouan. it is a...               1  Negative\n",
              "2  flight was fortunately short   anjouan to dzao...               1  Negative\n",
              "3  i will never fly again with adria   please do ...               1  Negative\n",
              "4  it ruined our last days of holidays  do not bo...               1  Negative"
            ],
            "text/html": [
              "\n",
              "  <div id=\"df-71708f0a-26ab-44b2-9308-f6a97de77a95\" class=\"colab-df-container\">\n",
              "    <div>\n",
              "<style scoped>\n",
              "    .dataframe tbody tr th:only-of-type {\n",
              "        vertical-align: middle;\n",
              "    }\n",
              "\n",
              "    .dataframe tbody tr th {\n",
              "        vertical-align: top;\n",
              "    }\n",
              "\n",
              "    .dataframe thead th {\n",
              "        text-align: right;\n",
              "    }\n",
              "</style>\n",
              "<table border=\"1\" class=\"dataframe\">\n",
              "  <thead>\n",
              "    <tr style=\"text-align: right;\">\n",
              "      <th></th>\n",
              "      <th>Review</th>\n",
              "      <th>Overall_Rating</th>\n",
              "      <th>Sentiment</th>\n",
              "    </tr>\n",
              "  </thead>\n",
              "  <tbody>\n",
              "    <tr>\n",
              "      <th>0</th>\n",
              "      <td>pretty decent airline   moroni to moheli. turn...</td>\n",
              "      <td>9</td>\n",
              "      <td>Positive</td>\n",
              "    </tr>\n",
              "    <tr>\n",
              "      <th>1</th>\n",
              "      <td>not a good airline  moroni to anjouan. it is a...</td>\n",
              "      <td>1</td>\n",
              "      <td>Negative</td>\n",
              "    </tr>\n",
              "    <tr>\n",
              "      <th>2</th>\n",
              "      <td>flight was fortunately short   anjouan to dzao...</td>\n",
              "      <td>1</td>\n",
              "      <td>Negative</td>\n",
              "    </tr>\n",
              "    <tr>\n",
              "      <th>3</th>\n",
              "      <td>i will never fly again with adria   please do ...</td>\n",
              "      <td>1</td>\n",
              "      <td>Negative</td>\n",
              "    </tr>\n",
              "    <tr>\n",
              "      <th>4</th>\n",
              "      <td>it ruined our last days of holidays  do not bo...</td>\n",
              "      <td>1</td>\n",
              "      <td>Negative</td>\n",
              "    </tr>\n",
              "  </tbody>\n",
              "</table>\n",
              "</div>\n",
              "    <div class=\"colab-df-buttons\">\n",
              "\n",
              "  <div class=\"colab-df-container\">\n",
              "    <button class=\"colab-df-convert\" onclick=\"convertToInteractive('df-71708f0a-26ab-44b2-9308-f6a97de77a95')\"\n",
              "            title=\"Convert this dataframe to an interactive table.\"\n",
              "            style=\"display:none;\">\n",
              "\n",
              "  <svg xmlns=\"http://www.w3.org/2000/svg\" height=\"24px\" viewBox=\"0 -960 960 960\">\n",
              "    <path d=\"M120-120v-720h720v720H120Zm60-500h600v-160H180v160Zm220 220h160v-160H400v160Zm0 220h160v-160H400v160ZM180-400h160v-160H180v160Zm440 0h160v-160H620v160ZM180-180h160v-160H180v160Zm440 0h160v-160H620v160Z\"/>\n",
              "  </svg>\n",
              "    </button>\n",
              "\n",
              "  <style>\n",
              "    .colab-df-container {\n",
              "      display:flex;\n",
              "      gap: 12px;\n",
              "    }\n",
              "\n",
              "    .colab-df-convert {\n",
              "      background-color: #E8F0FE;\n",
              "      border: none;\n",
              "      border-radius: 50%;\n",
              "      cursor: pointer;\n",
              "      display: none;\n",
              "      fill: #1967D2;\n",
              "      height: 32px;\n",
              "      padding: 0 0 0 0;\n",
              "      width: 32px;\n",
              "    }\n",
              "\n",
              "    .colab-df-convert:hover {\n",
              "      background-color: #E2EBFA;\n",
              "      box-shadow: 0px 1px 2px rgba(60, 64, 67, 0.3), 0px 1px 3px 1px rgba(60, 64, 67, 0.15);\n",
              "      fill: #174EA6;\n",
              "    }\n",
              "\n",
              "    .colab-df-buttons div {\n",
              "      margin-bottom: 4px;\n",
              "    }\n",
              "\n",
              "    [theme=dark] .colab-df-convert {\n",
              "      background-color: #3B4455;\n",
              "      fill: #D2E3FC;\n",
              "    }\n",
              "\n",
              "    [theme=dark] .colab-df-convert:hover {\n",
              "      background-color: #434B5C;\n",
              "      box-shadow: 0px 1px 3px 1px rgba(0, 0, 0, 0.15);\n",
              "      filter: drop-shadow(0px 1px 2px rgba(0, 0, 0, 0.3));\n",
              "      fill: #FFFFFF;\n",
              "    }\n",
              "  </style>\n",
              "\n",
              "    <script>\n",
              "      const buttonEl =\n",
              "        document.querySelector('#df-71708f0a-26ab-44b2-9308-f6a97de77a95 button.colab-df-convert');\n",
              "      buttonEl.style.display =\n",
              "        google.colab.kernel.accessAllowed ? 'block' : 'none';\n",
              "\n",
              "      async function convertToInteractive(key) {\n",
              "        const element = document.querySelector('#df-71708f0a-26ab-44b2-9308-f6a97de77a95');\n",
              "        const dataTable =\n",
              "          await google.colab.kernel.invokeFunction('convertToInteractive',\n",
              "                                                    [key], {});\n",
              "        if (!dataTable) return;\n",
              "\n",
              "        const docLinkHtml = 'Like what you see? Visit the ' +\n",
              "          '<a target=\"_blank\" href=https://colab.research.google.com/notebooks/data_table.ipynb>data table notebook</a>'\n",
              "          + ' to learn more about interactive tables.';\n",
              "        element.innerHTML = '';\n",
              "        dataTable['output_type'] = 'display_data';\n",
              "        await google.colab.output.renderOutput(dataTable, element);\n",
              "        const docLink = document.createElement('div');\n",
              "        docLink.innerHTML = docLinkHtml;\n",
              "        element.appendChild(docLink);\n",
              "      }\n",
              "    </script>\n",
              "  </div>\n",
              "\n",
              "\n",
              "    <div id=\"df-03da8ff7-39ac-4f0e-8b16-1e5ba83676a1\">\n",
              "      <button class=\"colab-df-quickchart\" onclick=\"quickchart('df-03da8ff7-39ac-4f0e-8b16-1e5ba83676a1')\"\n",
              "                title=\"Suggest charts\"\n",
              "                style=\"display:none;\">\n",
              "\n",
              "<svg xmlns=\"http://www.w3.org/2000/svg\" height=\"24px\"viewBox=\"0 0 24 24\"\n",
              "     width=\"24px\">\n",
              "    <g>\n",
              "        <path d=\"M19 3H5c-1.1 0-2 .9-2 2v14c0 1.1.9 2 2 2h14c1.1 0 2-.9 2-2V5c0-1.1-.9-2-2-2zM9 17H7v-7h2v7zm4 0h-2V7h2v10zm4 0h-2v-4h2v4z\"/>\n",
              "    </g>\n",
              "</svg>\n",
              "      </button>\n",
              "\n",
              "<style>\n",
              "  .colab-df-quickchart {\n",
              "      --bg-color: #E8F0FE;\n",
              "      --fill-color: #1967D2;\n",
              "      --hover-bg-color: #E2EBFA;\n",
              "      --hover-fill-color: #174EA6;\n",
              "      --disabled-fill-color: #AAA;\n",
              "      --disabled-bg-color: #DDD;\n",
              "  }\n",
              "\n",
              "  [theme=dark] .colab-df-quickchart {\n",
              "      --bg-color: #3B4455;\n",
              "      --fill-color: #D2E3FC;\n",
              "      --hover-bg-color: #434B5C;\n",
              "      --hover-fill-color: #FFFFFF;\n",
              "      --disabled-bg-color: #3B4455;\n",
              "      --disabled-fill-color: #666;\n",
              "  }\n",
              "\n",
              "  .colab-df-quickchart {\n",
              "    background-color: var(--bg-color);\n",
              "    border: none;\n",
              "    border-radius: 50%;\n",
              "    cursor: pointer;\n",
              "    display: none;\n",
              "    fill: var(--fill-color);\n",
              "    height: 32px;\n",
              "    padding: 0;\n",
              "    width: 32px;\n",
              "  }\n",
              "\n",
              "  .colab-df-quickchart:hover {\n",
              "    background-color: var(--hover-bg-color);\n",
              "    box-shadow: 0 1px 2px rgba(60, 64, 67, 0.3), 0 1px 3px 1px rgba(60, 64, 67, 0.15);\n",
              "    fill: var(--button-hover-fill-color);\n",
              "  }\n",
              "\n",
              "  .colab-df-quickchart-complete:disabled,\n",
              "  .colab-df-quickchart-complete:disabled:hover {\n",
              "    background-color: var(--disabled-bg-color);\n",
              "    fill: var(--disabled-fill-color);\n",
              "    box-shadow: none;\n",
              "  }\n",
              "\n",
              "  .colab-df-spinner {\n",
              "    border: 2px solid var(--fill-color);\n",
              "    border-color: transparent;\n",
              "    border-bottom-color: var(--fill-color);\n",
              "    animation:\n",
              "      spin 1s steps(1) infinite;\n",
              "  }\n",
              "\n",
              "  @keyframes spin {\n",
              "    0% {\n",
              "      border-color: transparent;\n",
              "      border-bottom-color: var(--fill-color);\n",
              "      border-left-color: var(--fill-color);\n",
              "    }\n",
              "    20% {\n",
              "      border-color: transparent;\n",
              "      border-left-color: var(--fill-color);\n",
              "      border-top-color: var(--fill-color);\n",
              "    }\n",
              "    30% {\n",
              "      border-color: transparent;\n",
              "      border-left-color: var(--fill-color);\n",
              "      border-top-color: var(--fill-color);\n",
              "      border-right-color: var(--fill-color);\n",
              "    }\n",
              "    40% {\n",
              "      border-color: transparent;\n",
              "      border-right-color: var(--fill-color);\n",
              "      border-top-color: var(--fill-color);\n",
              "    }\n",
              "    60% {\n",
              "      border-color: transparent;\n",
              "      border-right-color: var(--fill-color);\n",
              "    }\n",
              "    80% {\n",
              "      border-color: transparent;\n",
              "      border-right-color: var(--fill-color);\n",
              "      border-bottom-color: var(--fill-color);\n",
              "    }\n",
              "    90% {\n",
              "      border-color: transparent;\n",
              "      border-bottom-color: var(--fill-color);\n",
              "    }\n",
              "  }\n",
              "</style>\n",
              "\n",
              "      <script>\n",
              "        async function quickchart(key) {\n",
              "          const quickchartButtonEl =\n",
              "            document.querySelector('#' + key + ' button');\n",
              "          quickchartButtonEl.disabled = true;  // To prevent multiple clicks.\n",
              "          quickchartButtonEl.classList.add('colab-df-spinner');\n",
              "          try {\n",
              "            const charts = await google.colab.kernel.invokeFunction(\n",
              "                'suggestCharts', [key], {});\n",
              "          } catch (error) {\n",
              "            console.error('Error during call to suggestCharts:', error);\n",
              "          }\n",
              "          quickchartButtonEl.classList.remove('colab-df-spinner');\n",
              "          quickchartButtonEl.classList.add('colab-df-quickchart-complete');\n",
              "        }\n",
              "        (() => {\n",
              "          let quickchartButtonEl =\n",
              "            document.querySelector('#df-03da8ff7-39ac-4f0e-8b16-1e5ba83676a1 button');\n",
              "          quickchartButtonEl.style.display =\n",
              "            google.colab.kernel.accessAllowed ? 'block' : 'none';\n",
              "        })();\n",
              "      </script>\n",
              "    </div>\n",
              "\n",
              "    </div>\n",
              "  </div>\n"
            ],
            "application/vnd.google.colaboratory.intrinsic+json": {
              "type": "dataframe",
              "summary": "{\n  \"name\": \"df[['Review', 'Overall_Rating', 'Sentiment']]\",\n  \"rows\": 5,\n  \"fields\": [\n    {\n      \"column\": \"Review\",\n      \"properties\": {\n        \"dtype\": \"string\",\n        \"num_unique_values\": 5,\n        \"samples\": [\n          \"not a good airline  moroni to anjouan. it is a very small airline. my ticket advised me to turn up at 0800hrs which i did. there was confusion at this small airport. i was then directed to the office of ab aviation which was still closed. it opened at 0900hrs and i was told that the flight had been put back to 1300hrs and that they had tried to contact me. this could not be true as they did not have my phone number. i was with a local guide and he had not been informed either. i presume that i was bumped off. the later flight did operate but as usual there was confusion at checkin. the flight was only 30mins and there were no further problems. not a good airline but it is the only one for comoros.\",\n          \"it ruined our last days of holidays  do not book a flight with this airline! my friend and i should have returned from sofia to amsterdam on september 22 and 3 days before they sent us an sms informing the flight was cancelled. for 3 straight days we tried to reach the airline and the web agent edreams and we did not get a solution. finally 18 hours before our cancelled flight time and after 35 minutes on a call waiting the airline was able to get us on a flight with lufthansa. do not book adria airways it is unreliable and in our case it ruined our last days of holidays since we needed to be on the phones all day.\",\n          \"flight was fortunately short   anjouan to dzaoudzi. a very small airline and the only airline based in comoros. checkin was disorganised because of locals with big packages and disinterested staff. the flight was fortunately short 30 mins. took off on time and landed on time. with a short flight like there was of course no inflight entertainment nor cabin service except for biscuits and a bottle of water which was quite nice!\"\n        ],\n        \"semantic_type\": \"\",\n        \"description\": \"\"\n      }\n    },\n    {\n      \"column\": \"Overall_Rating\",\n      \"properties\": {\n        \"dtype\": \"number\",\n        \"std\": 3,\n        \"min\": 1,\n        \"max\": 9,\n        \"num_unique_values\": 2,\n        \"samples\": [\n          1,\n          9\n        ],\n        \"semantic_type\": \"\",\n        \"description\": \"\"\n      }\n    },\n    {\n      \"column\": \"Sentiment\",\n      \"properties\": {\n        \"dtype\": \"category\",\n        \"num_unique_values\": 2,\n        \"samples\": [\n          \"Negative\",\n          \"Positive\"\n        ],\n        \"semantic_type\": \"\",\n        \"description\": \"\"\n      }\n    }\n  ]\n}"
            }
          },
          "metadata": {},
          "execution_count": 104
        }
      ]
    },
    {
      "cell_type": "markdown",
      "source": [
        "# First Approach: Embedding + BidiLSTM"
      ],
      "metadata": {
        "id": "NB3G356ELoW2"
      }
    },
    {
      "cell_type": "code",
      "source": [
        "# Tokenize and pad\n",
        "# Initialize a tokenizer that will keep only the 10,000 most frequent words.\n",
        "# Any word not in the top 10,000 will be replaced with the \"<OOV>\" (out-of-vocabulary) token.\n",
        "tokenizer = Tokenizer(num_words=10000, oov_token=\"<OOV>\")\n",
        "# Fit the tokenizer on the 'Review' column to learn the word frequencies and build the word index.\n",
        "tokenizer.fit_on_texts(df['Review'])\n",
        "# Convert each review into a sequence of integers, where each integer represents a word's index.\n",
        "sequences = tokenizer.texts_to_sequences(df['Review'])\n",
        "# Pad or truncate each sequence to ensure uniform length (200 tokens).\n",
        "# Sequences longer than 200 are truncated at the end (post).\n",
        "# Sequences shorter than 200 are padded with 0s at the beginning by default (can change with padding='post').\n",
        "padded = pad_sequences(sequences, maxlen=200, truncating='post')"
      ],
      "metadata": {
        "id": "507B23KYkg1b"
      },
      "execution_count": 105,
      "outputs": []
    },
    {
      "cell_type": "code",
      "source": [
        "# Encode labels\n",
        "# Initialize a label encoder to convert categorical sentiment labels (e.g., \"positive\", \"negative\") into integers.\n",
        "label_encoder = LabelEncoder()\n",
        "# Fit the label encoder on the 'Sentiment' column and transform the labels to numeric values.\n",
        "labels = label_encoder.fit_transform(df['Sentiment'])"
      ],
      "metadata": {
        "id": "iPf6kPDLk4MR"
      },
      "execution_count": 106,
      "outputs": []
    },
    {
      "cell_type": "code",
      "source": [
        "for i in range(5):  # print first 5 examples\n",
        "    print(f\"Review #{i+1}\")\n",
        "    print(f\"Padded sequence: {padded[i]}\")\n",
        "    print(f\"Label (encoded): {labels[i]}\")\n",
        "    print('-' * 50)"
      ],
      "metadata": {
        "colab": {
          "base_uri": "https://localhost:8080/"
        },
        "id": "hiNgI-7N2I_b",
        "outputId": "b92d2ae1-0e0a-4ce5-b88e-9a0467e31720"
      },
      "execution_count": 107,
      "outputs": [
        {
          "output_type": "stream",
          "name": "stdout",
          "text": [
            "Review #1\n",
            "Padded sequence: [   0    0    0    0    0    0    0    0    0    0    0    0    0    0\n",
            "    0    0    0    0    0    0    0    0    0    0    0    0    0    0\n",
            "    0    0    0    0    0    0    0    0    0    0    0    0    0    0\n",
            "    0    0    0    0    0    0    0    0    0    0    0    0    0    0\n",
            "    0    0    0    0    0    0    0    0    0    0    0    0    0    0\n",
            "    0    0    0    0    0    0    0    0    0    0    0    0    0    0\n",
            "    0    0    0    0    0    0    0    0    0    0    0    0    0    0\n",
            "    0    0    0    0    0    0    0    0    0    0    0    0    0    0\n",
            "    0    0    0    0    0    0    0    0    0    0    0    0    0    0\n",
            "    0    0    0    0    0    0  483  593   29    1    3    1  670   79\n",
            "    3   36    6  483  593   29  201  220  889  182  156    4   95    7\n",
            "  348    4    2   64  635  182 1737  116    6   37  260    8   83  302\n",
            "  119   51   38   38    5  110  502  194   26   13  133  757    3  447\n",
            "   34    6  895   11  203    4  143 2717   59    5  240    7   37  215\n",
            "  170   61   12   35]\n",
            "Label (encoded): 1\n",
            "--------------------------------------------------\n",
            "Review #2\n",
            "Padded sequence: [   0    0    0    0    0    0    0    0    0    0    0    0    0    0\n",
            "    0    0    0    0    0    0    0    0    0    0    0    0    0    0\n",
            "    0    0    0    0    0    0    0    0    0    0    0    0    0    0\n",
            "    0    0    0    0    0    0    0    0    0    0    0    0    0    0\n",
            "    0    0    0    0   17    6   68   29    1    3    1   20   19    6\n",
            "   37  225   29   16  101  854   30    3 1078   86   21    1   59    5\n",
            "   84   45    7 2121   21   23  225   49    5    7   76 1877    3    2\n",
            "  571   11 5888 2244   59    7  133  507   20 1183   21    1    4    5\n",
            "    7   73   18    2    8   25   87  274   78    3    1    4   18   13\n",
            "   25  246    3  361   30   23   92   17   36 1645   33   13   84   17\n",
            "   27   16  217  294    5    7   14    6 1057 3559    4  197   25   17\n",
            "   87  314  461    5 9794   18    5    7 1858  142    2  172    8   84\n",
            " 1672   26   33  915   45    7 2121   21  156    2    8    7   53 3762\n",
            "    4   45   22   24  631  489   17    6   68   29   26   20   19    2\n",
            "   53   48   10    1]\n",
            "Label (encoded): 0\n",
            "--------------------------------------------------\n",
            "Review #3\n",
            "Padded sequence: [   0    0    0    0    0    0    0    0    0    0    0    0    0    0\n",
            "    0    0    0    0    0    0    0    0    0    0    0    0    0    0\n",
            "    0    0    0    0    0    0    0    0    0    0    0    0    0    0\n",
            "    0    0    0    0    0    0    0    0    0    0    0    0    0    0\n",
            "    0    0    0    0    0    0    0    0    0    0    0    0    0    0\n",
            "    0    0    0    0    0    0    0    0    0    0    0    0    0    0\n",
            "    0    0    0    0    0    0    0    0    0    0    0    0    0    0\n",
            "    0    0    0    0    0    0    0    0    0    0    0    0    0    0\n",
            "    0    0    0    0    0    0    0    0    0    0    0    0    0    0\n",
            "    0    0    8    7 1811  260    1    3    1    6   37  225   29    4\n",
            "    2   53   29 1294    9    1  156    7 3249   89   11 4866   14  521\n",
            " 5383    4 3117   52    2    8    7 1811  260  252  492  169  142   12\n",
            "   35    4  435   12   35   14    6  260    8  132   45    7   11  554\n",
            "   24  293  200  717  100   31  832   10 2717    4    6  895   11  203\n",
            "   59    7  279  215]\n",
            "Label (encoded): 0\n",
            "--------------------------------------------------\n",
            "Review #4\n",
            "Padded sequence: [   0    0    0    0    0    0    0    0    0    0    0    0    0    0\n",
            "    0    0    0    0    0    0    0    0    0    0    0    0    0    0\n",
            "    0    0    0    0    0    0    0    0    0    0    0    0    0    0\n",
            "    0    0    0    0    0    0    0    0    0    0    0    0    0    0\n",
            "    0    0    0    0    0    0    0    0    0    0    0    0    0    0\n",
            "    0    5   58   69   71   55   14 2146  618   81    6 2435 1108    4\n",
            "   81   17   71   14 2146   12    2  397   28 1336    3 9004    9  806\n",
            " 1204   13  224   16   74    4   10  257  151    9    6  376  391 1266\n",
            "  217  621   13   22   17  259    3 2193   20  694  151  172    2   74\n",
            "  147   21    2  403  506 1154 6304   10  327   13 1039   16  520 9795\n",
            "   55    5  125  104    8   14   54    1  723  830 9004    9 1347 1204\n",
            "   13  130    2    8   14   24  347  581   50   90    2  184 3560  217\n",
            "  621    3   44   31    3   56  286 4990  327  496   22   17 1506    5\n",
            "   58   69   71   55   14 2146  106    6 1702 1131   12   32 2146   10\n",
            " 1600 6305  111  269]\n",
            "Label (encoded): 0\n",
            "--------------------------------------------------\n",
            "Review #5\n",
            "Padded sequence: [   0    0    0    0    0    0    0    0    0    0    0    0    0    0\n",
            "    0    0    0    0    0    0    0    0    0    0    0    0    0    0\n",
            "    0    0    0    0    0    0    0    0    0    0    0    0    0    0\n",
            "    0    0    0    0    0    0    0    0    0    0    0    0    0    0\n",
            "    0    0    0    0    0    0    0    0    0    0    0    0    0    0\n",
            "    0    0    0    0    0    0    0    0   20 1154   34  162  151   11\n",
            " 2122   81   17  214    6    8   14   23   29   16 1155    4    5  213\n",
            "   27  835   28 2147    3  685   12 1347 1273    4  118  151   90   13\n",
            "  340   43   39 2332 1709    2    8    7  130   10  118 1295  151   15\n",
            "  246    3  662    2   29    4    2 1244  278 5384    4   15   84   17\n",
            "   56    6 1205  232 1184   50   90   34  130    8   35    4   60 1250\n",
            "  119   12    6  171  190    2   29    7  259    3   56   43   12    6\n",
            "    8   14  850   81   17  214 2146  230   20   19 1507    4    9   34\n",
            "  475   20 1154   34  162  151   11 2122  221   15  410    3   36   12\n",
            "    2 1789   41  108]\n",
            "Label (encoded): 0\n",
            "--------------------------------------------------\n"
          ]
        }
      ]
    },
    {
      "cell_type": "markdown",
      "source": [
        "so my dataset is made by the feature set, padded which is composed by padded token sequences  (shape: num_samples x 200)*  and  label the encoded sentiment labels that is the target array, made of integer-encoded sentiment labels.\n",
        "\n",
        "\n",
        "\\* Each of the 200 elements in a sample of padded is an integer index that refers to a specific word in your tokenizer’s vocabulary, and Keras handles the mapping automatically during training via the Embedding layer."
      ],
      "metadata": {
        "id": "Pjp8mE_5r4BB"
      }
    },
    {
      "cell_type": "code",
      "source": [
        "# Split the data into training and test sets\n",
        "# 20% of the data goes to the test set\n",
        "# Remember that the dataset is very unbalanced\n",
        "X_train, X_test, y_train, y_test = train_test_split(padded, labels, test_size=0.2, random_state=42)"
      ],
      "metadata": {
        "id": "73qpsrFlk6iw"
      },
      "execution_count": 108,
      "outputs": []
    },
    {
      "cell_type": "code",
      "source": [
        "# Compute class weights to handle imbalanced datasets\n",
        "class_weights = compute_class_weight(\n",
        "    # automatically calculate weights based on the frequency of each class.\n",
        "    class_weight='balanced',\n",
        "    classes=np.unique(y_train),\n",
        "    y=y_train\n",
        ")\n",
        "\n",
        "# Convert class weights to a dictionary format required by Keras\n",
        "class_weight_dict = dict(enumerate(class_weights))\n",
        "print(class_weight_dict)"
      ],
      "metadata": {
        "id": "qpUSTGWXKM8f",
        "outputId": "f58009ce-d46a-440b-f572-49f78abe2126",
        "colab": {
          "base_uri": "https://localhost:8080/"
        }
      },
      "execution_count": 109,
      "outputs": [
        {
          "output_type": "stream",
          "name": "stdout",
          "text": [
            "{0: np.float64(0.6855147864184009), 1: np.float64(1.84760147601476)}\n"
          ]
        }
      ]
    },
    {
      "cell_type": "code",
      "source": [
        "# Define the model\n",
        "model = Sequential([\n",
        "    # Embedding layer turns word indices into dense vectors\n",
        "    # input_dim is the size of the vocabulary\n",
        "    # output_dim determine the size of the embedding vector\n",
        "    # input_length is the  fixed length of the input sequences after padding/truncation\n",
        "    Embedding(input_dim=10000, output_dim=64, input_length=200),\n",
        "    # Bidirectional LSTM to capture context from both directions\n",
        "    # kernel_regularize is a regularization term that helps prevent overfitting by penalizing large weights in the network --> classical L2 regularization\n",
        "    Bidirectional(LSTM(64, return_sequences=False, dropout=0.3, kernel_regularizer=l2(0.001))),\n",
        "    # Dropout layer for additional regularization\n",
        "    Dropout(0.5),\n",
        "    # Dense layer with ReLU activation\n",
        "    Dense(64, activation='relu', kernel_regularizer=l2(0.001)),\n",
        "    # Output layer: sigmoid for binary classification\n",
        "    Dense(1, activation='sigmoid')\n",
        "])\n",
        "\n",
        "# Compile the model\n",
        "# binary_crossentropy is the correct loss function for binary classification with a sigmoid output.\n",
        "# sparse_categorical_crossentropy is used for multi-class classification with softmax output.\n",
        "model.compile(loss='binary_crossentropy', optimizer='adam', metrics=['accuracy'])\n",
        "\n",
        "# Set up early stopping to prevent overfitting\n",
        "early_stopping = EarlyStopping(monitor='val_loss', patience=2, restore_best_weights=True)\n",
        "\n",
        "# Train the model\n",
        "history = model.fit(\n",
        "    X_train, y_train,\n",
        "    validation_split=0.2,  # 20% of training data used for validation\n",
        "    epochs=5,\n",
        "    batch_size=64,\n",
        "    class_weight=class_weight_dict,  # Using class weight\n",
        "    callbacks=[early_stopping]    # Using early stopping\n",
        ")\n",
        "# Evaluate on test set\n",
        "test_loss, test_acc = model.evaluate(X_test, y_test)\n",
        "print(f\"Test Accuracy: {test_acc:.4f}\")"
      ],
      "metadata": {
        "colab": {
          "base_uri": "https://localhost:8080/"
        },
        "id": "tFqXkGOpEnqg",
        "outputId": "b0e09faf-3814-4e2a-e259-7b91a3d7ab05"
      },
      "execution_count": 110,
      "outputs": [
        {
          "output_type": "stream",
          "name": "stdout",
          "text": [
            "Epoch 1/5\n"
          ]
        },
        {
          "output_type": "stream",
          "name": "stderr",
          "text": [
            "/usr/local/lib/python3.11/dist-packages/keras/src/layers/core/embedding.py:90: UserWarning: Argument `input_length` is deprecated. Just remove it.\n",
            "  warnings.warn(\n"
          ]
        },
        {
          "output_type": "stream",
          "name": "stdout",
          "text": [
            "\u001b[1m188/188\u001b[0m \u001b[32m━━━━━━━━━━━━━━━━━━━━\u001b[0m\u001b[37m\u001b[0m \u001b[1m66s\u001b[0m 313ms/step - accuracy: 0.6999 - loss: 0.6957 - val_accuracy: 0.8945 - val_loss: 0.3493\n",
            "Epoch 2/5\n",
            "\u001b[1m188/188\u001b[0m \u001b[32m━━━━━━━━━━━━━━━━━━━━\u001b[0m\u001b[37m\u001b[0m \u001b[1m81s\u001b[0m 306ms/step - accuracy: 0.9298 - loss: 0.2419 - val_accuracy: 0.9351 - val_loss: 0.2356\n",
            "Epoch 3/5\n",
            "\u001b[1m188/188\u001b[0m \u001b[32m━━━━━━━━━━━━━━━━━━━━\u001b[0m\u001b[37m\u001b[0m \u001b[1m81s\u001b[0m 304ms/step - accuracy: 0.9572 - loss: 0.1579 - val_accuracy: 0.9328 - val_loss: 0.2192\n",
            "Epoch 4/5\n",
            "\u001b[1m188/188\u001b[0m \u001b[32m━━━━━━━━━━━━━━━━━━━━\u001b[0m\u001b[37m\u001b[0m \u001b[1m84s\u001b[0m 316ms/step - accuracy: 0.9674 - loss: 0.1261 - val_accuracy: 0.9288 - val_loss: 0.2351\n",
            "Epoch 5/5\n",
            "\u001b[1m188/188\u001b[0m \u001b[32m━━━━━━━━━━━━━━━━━━━━\u001b[0m\u001b[37m\u001b[0m \u001b[1m83s\u001b[0m 322ms/step - accuracy: 0.9642 - loss: 0.1514 - val_accuracy: 0.9298 - val_loss: 0.2563\n",
            "\u001b[1m118/118\u001b[0m \u001b[32m━━━━━━━━━━━━━━━━━━━━\u001b[0m\u001b[37m\u001b[0m \u001b[1m6s\u001b[0m 53ms/step - accuracy: 0.9412 - loss: 0.1986\n",
            "Test Accuracy: 0.9364\n"
          ]
        }
      ]
    },
    {
      "cell_type": "code",
      "source": [
        "# Predict probabilities (sigmoid output between 0 and 1)\n",
        "y_pred_probs = model.predict(X_test)\n",
        "# Convert probabilities to binary class labels (0 or 1)\n",
        "y_pred = (y_pred_probs > 0.5).astype(\"int32\").flatten()\n",
        "\n",
        "print(\"\\nClassification Report:\")\n",
        "print(classification_report(y_test, y_pred, target_names=label_encoder.classes_))\n",
        "\n",
        "precision = precision_score(y_test, y_pred, average='macro')\n",
        "recall = recall_score(y_test, y_pred, average='macro')\n",
        "f1 = f1_score(y_test, y_pred, average='macro')\n",
        "\n",
        "print(f\"\\nMacro Precision: {precision:.4f}\")\n",
        "print(f\"Macro Recall:    {recall:.4f}\")\n",
        "print(f\"Macro F1-score:  {f1:.4f}\")"
      ],
      "metadata": {
        "colab": {
          "base_uri": "https://localhost:8080/"
        },
        "id": "919ZpSodm_iU",
        "outputId": "082010de-9b51-4e94-9dfe-7516aa7ca53b"
      },
      "execution_count": 111,
      "outputs": [
        {
          "output_type": "stream",
          "name": "stdout",
          "text": [
            "\u001b[1m118/118\u001b[0m \u001b[32m━━━━━━━━━━━━━━━━━━━━\u001b[0m\u001b[37m\u001b[0m \u001b[1m6s\u001b[0m 45ms/step\n",
            "\n",
            "Classification Report:\n",
            "              precision    recall  f1-score   support\n",
            "\n",
            "    Negative       0.97      0.94      0.96      2716\n",
            "    Positive       0.86      0.92      0.89      1040\n",
            "\n",
            "    accuracy                           0.94      3756\n",
            "   macro avg       0.91      0.93      0.92      3756\n",
            "weighted avg       0.94      0.94      0.94      3756\n",
            "\n",
            "\n",
            "Macro Precision: 0.9144\n",
            "Macro Recall:    0.9311\n",
            "Macro F1-score:  0.9222\n"
          ]
        }
      ]
    },
    {
      "cell_type": "code",
      "source": [
        "# compute and print the confusion matrix\n",
        "cm = confusion_matrix(y_test, y_pred)\n",
        "print(\"\\nConfusion Matrix:\")\n",
        "print(cm)"
      ],
      "metadata": {
        "id": "jVulSS5xHk4_",
        "outputId": "bd8c3d33-ef7d-4891-c45e-777878ec0818",
        "colab": {
          "base_uri": "https://localhost:8080/"
        }
      },
      "execution_count": 112,
      "outputs": [
        {
          "output_type": "stream",
          "name": "stdout",
          "text": [
            "\n",
            "Confusion Matrix:\n",
            "[[2561  155]\n",
            " [  84  956]]\n"
          ]
        }
      ]
    },
    {
      "cell_type": "code",
      "source": [
        "# Optional: Define class labels (e.g., \"Negative\" and \"Positive\")\n",
        "labels = label_encoder.classes_  # or manually: labels = ['Negative', 'Positive']\n",
        "\n",
        "# Plot using seaborn\n",
        "plt.figure(figsize=(6, 5))\n",
        "sns.heatmap(cm, annot=True, fmt='d', cmap='Blues', xticklabels=labels, yticklabels=labels)\n",
        "\n",
        "plt.xlabel('Predicted Label')\n",
        "plt.ylabel('True Label')\n",
        "plt.title('Confusion Matrix')\n",
        "plt.tight_layout()\n",
        "plt.show()"
      ],
      "metadata": {
        "colab": {
          "base_uri": "https://localhost:8080/",
          "height": 507
        },
        "id": "Bgx7yLeb1d44",
        "outputId": "493d5025-d49f-4aea-e62c-97b7788c6381"
      },
      "execution_count": 113,
      "outputs": [
        {
          "output_type": "display_data",
          "data": {
            "text/plain": [
              "<Figure size 600x500 with 2 Axes>"
            ],
            "image/png": "[encoded data removed]"
          },
          "metadata": {}
        }
      ]
    },
    {
      "cell_type": "markdown",
      "source": [
        "# Second Approach: no Bidirectionality, Embedding + LSTM"
      ],
      "metadata": {
        "id": "l0hA9DF55GYi"
      }
    },
    {
      "cell_type": "code",
      "source": [
        "# Define the model\n",
        "model_LSTM = Sequential([\n",
        "    Embedding(input_dim=10000, output_dim=64, input_length=200),\n",
        "    LSTM(64, return_sequences=False, dropout=0.3, kernel_regularizer=l2(0.001)),\n",
        "    Dropout(0.5),\n",
        "    Dense(64, activation='relu', kernel_regularizer=l2(0.001)),\n",
        "    Dense(1, activation='sigmoid')\n",
        "])\n",
        "\n",
        "# Compile the model\n",
        "model_LSTM.compile(loss='binary_crossentropy', optimizer='adam', metrics=['accuracy'])\n",
        "\n",
        "# Train the model\n",
        "history_LSTM = model_LSTM.fit(\n",
        "    X_train, y_train,\n",
        "    validation_split=0.2,\n",
        "    epochs=5,\n",
        "    batch_size=64,\n",
        "    class_weight=class_weight_dict,\n",
        "    callbacks=[early_stopping]\n",
        ")\n",
        "\n",
        "# Evaluate\n",
        "test_loss_LSTM, test_acc_LSTM = model_LSTM.evaluate(X_test, y_test)\n",
        "print(f\"Test Accuracy (LSTM): {test_acc_LSTM:.4f}\")"
      ],
      "metadata": {
        "colab": {
          "base_uri": "https://localhost:8080/"
        },
        "id": "CVngCEoH5PCE",
        "outputId": "27625e2d-588f-41d7-f58e-2916e76d9a66"
      },
      "execution_count": 114,
      "outputs": [
        {
          "output_type": "stream",
          "name": "stdout",
          "text": [
            "Epoch 1/5\n"
          ]
        },
        {
          "output_type": "stream",
          "name": "stderr",
          "text": [
            "/usr/local/lib/python3.11/dist-packages/keras/src/layers/core/embedding.py:90: UserWarning: Argument `input_length` is deprecated. Just remove it.\n",
            "  warnings.warn(\n"
          ]
        },
        {
          "output_type": "stream",
          "name": "stdout",
          "text": [
            "\u001b[1m188/188\u001b[0m \u001b[32m━━━━━━━━━━━━━━━━━━━━\u001b[0m\u001b[37m\u001b[0m \u001b[1m38s\u001b[0m 183ms/step - accuracy: 0.6542 - loss: 0.6241 - val_accuracy: 0.9324 - val_loss: 0.2210\n",
            "Epoch 2/5\n",
            "\u001b[1m188/188\u001b[0m \u001b[32m━━━━━━━━━━━━━━━━━━━━\u001b[0m\u001b[37m\u001b[0m \u001b[1m31s\u001b[0m 167ms/step - accuracy: 0.9364 - loss: 0.2228 - val_accuracy: 0.9111 - val_loss: 0.3127\n",
            "Epoch 3/5\n",
            "\u001b[1m188/188\u001b[0m \u001b[32m━━━━━━━━━━━━━━━━━━━━\u001b[0m\u001b[37m\u001b[0m \u001b[1m31s\u001b[0m 163ms/step - accuracy: 0.9468 - loss: 0.1786 - val_accuracy: 0.9241 - val_loss: 0.2157\n",
            "Epoch 4/5\n",
            "\u001b[1m188/188\u001b[0m \u001b[32m━━━━━━━━━━━━━━━━━━━━\u001b[0m\u001b[37m\u001b[0m \u001b[1m41s\u001b[0m 165ms/step - accuracy: 0.9640 - loss: 0.1199 - val_accuracy: 0.9208 - val_loss: 0.2164\n",
            "Epoch 5/5\n",
            "\u001b[1m188/188\u001b[0m \u001b[32m━━━━━━━━━━━━━━━━━━━━\u001b[0m\u001b[37m\u001b[0m \u001b[1m60s\u001b[0m 266ms/step - accuracy: 0.9759 - loss: 0.0997 - val_accuracy: 0.9062 - val_loss: 0.2665\n",
            "\u001b[1m118/118\u001b[0m \u001b[32m━━━━━━━━━━━━━━━━━━━━\u001b[0m\u001b[37m\u001b[0m \u001b[1m4s\u001b[0m 37ms/step - accuracy: 0.9413 - loss: 0.1797\n",
            "Test Accuracy (LSTM): 0.9353\n"
          ]
        }
      ]
    },
    {
      "cell_type": "code",
      "source": [
        "# Predict probabilities (sigmoid output between 0 and 1)\n",
        "y_pred_probs_LSTM = model_LSTM.predict(X_test)\n",
        "# Convert probabilities to binary class labels (0 or 1)\n",
        "y_pred_LSTM = (y_pred_probs_LSTM > 0.5).astype(\"int32\").flatten()\n",
        "\n",
        "print(\"\\nClassification Report:\")\n",
        "print(classification_report(y_test, y_pred_LSTM, target_names=label_encoder.classes_))\n",
        "\n",
        "precision_LSTM = precision_score(y_test, y_pred_LSTM, average='macro')\n",
        "recall_LSTM = recall_score(y_test, y_pred_LSTM, average='macro')\n",
        "f1_LSTM = f1_score(y_test, y_pred_LSTM, average='macro')\n",
        "\n",
        "print(f\"\\nMacro Precision: {precision_LSTM:.4f}\")\n",
        "print(f\"Macro Recall:    {recall_LSTM:.4f}\")\n",
        "print(f\"Macro F1-score:  {f1_LSTM:.4f}\")\n",
        "\n",
        "cm_LSTM = confusion_matrix(y_test, y_pred_LSTM)\n",
        "print(\"\\nConfusion Matrix:\")\n",
        "print(cm_LSTM)"
      ],
      "metadata": {
        "colab": {
          "base_uri": "https://localhost:8080/"
        },
        "id": "y3iRDaaj6IBQ",
        "outputId": "33f55f1c-a059-4460-eba7-3d6511ff977a"
      },
      "execution_count": 116,
      "outputs": [
        {
          "output_type": "stream",
          "name": "stdout",
          "text": [
            "\u001b[1m118/118\u001b[0m \u001b[32m━━━━━━━━━━━━━━━━━━━━\u001b[0m\u001b[37m\u001b[0m \u001b[1m5s\u001b[0m 41ms/step\n",
            "\n",
            "Classification Report:\n",
            "              precision    recall  f1-score   support\n",
            "\n",
            "    Negative       0.97      0.94      0.95      2716\n",
            "    Positive       0.85      0.93      0.89      1040\n",
            "\n",
            "    accuracy                           0.94      3756\n",
            "   macro avg       0.91      0.93      0.92      3756\n",
            "weighted avg       0.94      0.94      0.94      3756\n",
            "\n",
            "\n",
            "Macro Precision: 0.9111\n",
            "Macro Recall:    0.9342\n",
            "Macro F1-score:  0.9215\n",
            "\n",
            "Confusion Matrix:\n",
            "[[2544  172]\n",
            " [  71  969]]\n"
          ]
        }
      ]
    },
    {
      "cell_type": "markdown",
      "source": [
        "# Same setting but Vanilla/Elman RNN"
      ],
      "metadata": {
        "id": "GtUbqUV07zr5"
      }
    },
    {
      "cell_type": "code",
      "source": [
        "# Define the model\n",
        "model_RNN = Sequential([\n",
        "    Embedding(input_dim=10000, output_dim=64, input_length=200),\n",
        "    SimpleRNN(64, return_sequences=False, dropout=0.3, kernel_regularizer=l2(0.001)),\n",
        "    Dropout(0.5),\n",
        "    Dense(64, activation='relu', kernel_regularizer=l2(0.001)),\n",
        "    Dense(1, activation='sigmoid')\n",
        "])\n",
        "\n",
        "# Compile the model\n",
        "model_RNN.compile(loss='binary_crossentropy', optimizer='adam', metrics=['accuracy'])\n",
        "\n",
        "# Early stopping, already defined before\n",
        "\n",
        "# class_weight_dict already defined before\n",
        "\n",
        "# Train the model\n",
        "history_RNN = model_RNN.fit(\n",
        "    X_train, y_train,\n",
        "    validation_split=0.2,\n",
        "    epochs=5,\n",
        "    batch_size=64,\n",
        "    class_weight=class_weight_dict,\n",
        "    callbacks=[early_stopping]\n",
        ")\n",
        "\n",
        "# Evaluate the model\n",
        "test_loss_RNN, test_acc_RNN = model_RNN.evaluate(X_test, y_test)\n",
        "print(f\"Test Accuracy (RNN): {test_acc_RNN:.4f}\")\n",
        "\n",
        "# Predict\n",
        "y_pred_probs_RNN = model_RNN.predict(X_test)\n",
        "y_pred_RNN = (y_pred_probs_RNN > 0.5).astype(\"int32\").flatten()\n",
        "\n",
        "# Classification Report\n",
        "print(\"\\nClassification Report:\")\n",
        "print(classification_report(y_test, y_pred_RNN, target_names=label_encoder.classes_))\n",
        "\n",
        "# Metrics\n",
        "precision_RNN = precision_score(y_test, y_pred_RNN, average='macro')\n",
        "recall_RNN = recall_score(y_test, y_pred_RNN, average='macro')\n",
        "f1_RNN = f1_score(y_test, y_pred_RNN, average='macro')\n",
        "\n",
        "print(f\"\\nMacro Precision: {precision_RNN:.4f}\")\n",
        "print(f\"Macro Recall:    {recall_RNN:.4f}\")\n",
        "print(f\"Macro F1-score:  {f1_RNN:.4f}\")\n",
        "\n",
        "# Confusion Matrix\n",
        "cm_RNN = confusion_matrix(y_test, y_pred_RNN)\n",
        "print(\"\\nConfusion Matrix:\")\n",
        "print(cm_RNN)"
      ],
      "metadata": {
        "colab": {
          "base_uri": "https://localhost:8080/"
        },
        "id": "l4VSM0SI7Mmg",
        "outputId": "f442cd23-4494-4279-c0b9-a0010081b974"
      },
      "execution_count": 118,
      "outputs": [
        {
          "output_type": "stream",
          "name": "stdout",
          "text": [
            "Epoch 1/5\n"
          ]
        },
        {
          "output_type": "stream",
          "name": "stderr",
          "text": [
            "/usr/local/lib/python3.11/dist-packages/keras/src/layers/core/embedding.py:90: UserWarning: Argument `input_length` is deprecated. Just remove it.\n",
            "  warnings.warn(\n"
          ]
        },
        {
          "output_type": "stream",
          "name": "stdout",
          "text": [
            "\u001b[1m188/188\u001b[0m \u001b[32m━━━━━━━━━━━━━━━━━━━━\u001b[0m\u001b[37m\u001b[0m \u001b[1m21s\u001b[0m 93ms/step - accuracy: 0.4623 - loss: 0.8068 - val_accuracy: 0.7451 - val_loss: 0.7325\n",
            "Epoch 2/5\n",
            "\u001b[1m188/188\u001b[0m \u001b[32m━━━━━━━━━━━━━━━━━━━━\u001b[0m\u001b[37m\u001b[0m \u001b[1m19s\u001b[0m 101ms/step - accuracy: 0.6403 - loss: 0.6779 - val_accuracy: 0.8905 - val_loss: 0.3533\n",
            "Epoch 3/5\n",
            "\u001b[1m188/188\u001b[0m \u001b[32m━━━━━━━━━━━━━━━━━━━━\u001b[0m\u001b[37m\u001b[0m \u001b[1m19s\u001b[0m 91ms/step - accuracy: 0.9082 - loss: 0.3161 - val_accuracy: 0.8676 - val_loss: 0.3699\n",
            "Epoch 4/5\n",
            "\u001b[1m188/188\u001b[0m \u001b[32m━━━━━━━━━━━━━━━━━━━━\u001b[0m\u001b[37m\u001b[0m \u001b[1m20s\u001b[0m 90ms/step - accuracy: 0.8562 - loss: 0.3578 - val_accuracy: 0.9038 - val_loss: 0.3176\n",
            "Epoch 5/5\n",
            "\u001b[1m188/188\u001b[0m \u001b[32m━━━━━━━━━━━━━━━━━━━━\u001b[0m\u001b[37m\u001b[0m \u001b[1m28s\u001b[0m 130ms/step - accuracy: 0.9285 - loss: 0.2528 - val_accuracy: 0.8519 - val_loss: 0.3919\n",
            "\u001b[1m118/118\u001b[0m \u001b[32m━━━━━━━━━━━━━━━━━━━━\u001b[0m\u001b[37m\u001b[0m \u001b[1m2s\u001b[0m 17ms/step - accuracy: 0.9252 - loss: 0.2813\n",
            "Test Accuracy (RNN): 0.9175\n",
            "\u001b[1m118/118\u001b[0m \u001b[32m━━━━━━━━━━━━━━━━━━━━\u001b[0m\u001b[37m\u001b[0m \u001b[1m2s\u001b[0m 14ms/step\n",
            "\n",
            "Classification Report:\n",
            "              precision    recall  f1-score   support\n",
            "\n",
            "    Negative       0.95      0.93      0.94      2716\n",
            "    Positive       0.83      0.88      0.85      1040\n",
            "\n",
            "    accuracy                           0.92      3756\n",
            "   macro avg       0.89      0.90      0.90      3756\n",
            "weighted avg       0.92      0.92      0.92      3756\n",
            "\n",
            "\n",
            "Macro Precision: 0.8931\n",
            "Macro Recall:    0.9044\n",
            "Macro F1-score:  0.8984\n",
            "\n",
            "Confusion Matrix:\n",
            "[[2536  180]\n",
            " [ 130  910]]\n"
          ]
        }
      ]
    },
    {
      "cell_type": "markdown",
      "source": [
        "Embedding layer of Keras, how it works under the hood?\n",
        "- At the start of training, each word index (from 0 to 9999) is assigned a random vector of size 64 (unless a specific initializer is provided).\n",
        "- When you feed padded sequences (e.g., [0, 0, 3, 42, 8, ...]) into the network, the embedding layer looks up the corresponding rows in the embedding matrix for each index.\n",
        "\n",
        "- So a sequence of length 200 becomes a (200, 64) matrix.\n",
        "\n",
        "- During backpropagation, the embedding vectors are updated just like any other weights in the network.\n",
        "\n",
        "- This way, words that are important to the classification task get vectors that capture semantic and contextual meaning, based on how they help reduce the loss (like binary cross-entropy in your case).\n",
        "\n",
        "I want to make a comparison with petrained embedding e.g GloVe, Word2Vec that use pre-learned word vectors from huge corpora, Often offer better performances when training data is limited and in Keras, you can load them manually and freeze or fine-tune them."
      ],
      "metadata": {
        "id": "6bVhdtU08fWa"
      }
    },
    {
      "cell_type": "markdown",
      "source": [
        "# Use Glove pretrained embeddings + LSTM"
      ],
      "metadata": {
        "id": "p1GL-EMh9aov"
      }
    },
    {
      "cell_type": "code",
      "source": [
        "# Downloading & Unzipping GloVe\n",
        "!wget http://nlp.stanford.edu/data/glove.6B.zip\n",
        "!unzip glove.6B.zip\n"
      ],
      "metadata": {
        "colab": {
          "base_uri": "https://localhost:8080/"
        },
        "id": "6pLzlc1kgN4f",
        "outputId": "ae684835-32cd-4701-a375-0b359cbcc6e2"
      },
      "execution_count": 119,
      "outputs": [
        {
          "output_type": "stream",
          "name": "stdout",
          "text": [
            "--2025-05-07 13:40:15--  http://nlp.stanford.edu/data/glove.6B.zip\n",
            "Resolving nlp.stanford.edu (nlp.stanford.edu)... 171.64.67.140\n",
            "Connecting to nlp.stanford.edu (nlp.stanford.edu)|171.64.67.140|:80... connected.\n",
            "HTTP request sent, awaiting response... 302 Found\n",
            "Location: https://nlp.stanford.edu/data/glove.6B.zip [following]\n",
            "--2025-05-07 13:40:15--  https://nlp.stanford.edu/data/glove.6B.zip\n",
            "Connecting to nlp.stanford.edu (nlp.stanford.edu)|171.64.67.140|:443... connected.\n",
            "HTTP request sent, awaiting response... 301 Moved Permanently\n",
            "Location: https://downloads.cs.stanford.edu/nlp/data/glove.6B.zip [following]\n",
            "--2025-05-07 13:40:15--  https://downloads.cs.stanford.edu/nlp/data/glove.6B.zip\n",
            "Resolving downloads.cs.stanford.edu (downloads.cs.stanford.edu)... 171.64.64.22\n",
            "Connecting to downloads.cs.stanford.edu (downloads.cs.stanford.edu)|171.64.64.22|:443... connected.\n",
            "HTTP request sent, awaiting response... 200 OK\n",
            "Length: 862182613 (822M) [application/zip]\n",
            "Saving to: ‘glove.6B.zip.1’\n",
            "\n",
            "glove.6B.zip.1      100%[===================>] 822.24M  5.02MB/s    in 2m 39s  \n",
            "\n",
            "2025-05-07 13:42:55 (5.16 MB/s) - ‘glove.6B.zip.1’ saved [862182613/862182613]\n",
            "\n",
            "Archive:  glove.6B.zip\n",
            "replace glove.6B.50d.txt? [y]es, [n]o, [A]ll, [N]one, [r]ename: n\n",
            "replace glove.6B.100d.txt? [y]es, [n]o, [A]ll, [N]one, [r]ename: n\n",
            "replace glove.6B.200d.txt? [y]es, [n]o, [A]ll, [N]one, [r]ename: n\n",
            "replace glove.6B.300d.txt? [y]es, [n]o, [A]ll, [N]one, [r]ename: n\n"
          ]
        }
      ]
    },
    {
      "cell_type": "code",
      "source": [
        "# Load the GloVe embeddings\n",
        "# This function is designed to load GloVe word embeddings from a text file, (the .txt file containing the pre-trained GloVe embeddings).\n",
        "# The file path to the GloVe file is passed as an argument to the function.\n",
        "def load_glove_embeddings(file_path):\n",
        "    # python dictionary to store word embeddings\n",
        "    # Key: The word (as a string)\n",
        "    #\n",
        "    embeddings_index = {}\n",
        "    # open Glove file in read mode, ensures the file is properly encoded with UTF-8\n",
        "    with open(file_path, 'r', encoding='utf-8') as f:\n",
        "        for line in f:\n",
        "            # structure of a line of GloVE file: word value1 value2 value3 ... valueN\n",
        "            # line is split by spaces into individual parts\n",
        "            values = line.split()\n",
        "            # take the word\n",
        "            word = values[0]\n",
        "            # take the vector values\n",
        "            coefs = np.asarray(values[1:], dtype='float32')\n",
        "            # fill the dictionary\n",
        "            embeddings_index[word] = coefs\n",
        "    # return the dictionary\n",
        "    return embeddings_index\n",
        "\n",
        "# Load GloVe embeddings (use glove.6B.50d.txt or glove.6B.100d.txt, etc.)\n",
        "embedding_dim = 200  # or 100, 200, 300 based on the downloaded file\n",
        "glove_path = f'glove.6B.{embedding_dim}d.txt'\n",
        "embeddings_index = load_glove_embeddings(glove_path)\n",
        "print(f'Found {len(embeddings_index)} word vectors.')"
      ],
      "metadata": {
        "colab": {
          "base_uri": "https://localhost:8080/"
        },
        "id": "0rTGY_qBh4Um",
        "outputId": "d0aaae3e-4de4-40f9-a98b-fc386848b0d8"
      },
      "execution_count": 120,
      "outputs": [
        {
          "output_type": "stream",
          "name": "stdout",
          "text": [
            "Found 400000 word vectors.\n"
          ]
        }
      ]
    },
    {
      "cell_type": "code",
      "source": [
        "# The word_index is a dictionary created by the Keras tokenizer.\n",
        "# It contains the words from your training data as keys and their corresponding integer indices as values.\n",
        "vocab_size = len(tokenizer.word_index) + 1  # number of unique words found in your dataset,  Plus 1 for padding token\n",
        "# Matrix to Store Word Vectors\n",
        "embedding_matrix = np.zeros((vocab_size, embedding_dim))\n",
        "\n",
        "# Fill the embedding_matrix with Pre-trained GloVe Vectors\n",
        "# iterates over every word in the word_index of the tokenizer\n",
        "for word, index in tokenizer.word_index.items():\n",
        "    # checks if the word exists in the embeddings_index dictionary\n",
        "    if word in embeddings_index:\n",
        "        # f the word is found in embeddings_index,\n",
        "        # we set the corresponding row in embedding_matrix (at position index)\n",
        "        # to the word's vector from embeddings_index.\n",
        "        embedding_matrix[index] = embeddings_index[word]\n",
        "\n",
        "print(f\"Embedding matrix shape: {embedding_matrix.shape}\")"
      ],
      "metadata": {
        "colab": {
          "base_uri": "https://localhost:8080/"
        },
        "id": "oVqUCCIZgXae",
        "outputId": "2242cf70-d4f9-43d0-8680-e6b8f9204701"
      },
      "execution_count": 123,
      "outputs": [
        {
          "output_type": "stream",
          "name": "stdout",
          "text": [
            "Embedding matrix shape: (36304, 200)\n"
          ]
        }
      ]
    },
    {
      "cell_type": "code",
      "source": [
        "# Build the model\n",
        "model = Sequential([\n",
        "    Embedding(input_dim=vocab_size, output_dim=embedding_dim, input_length=200,\n",
        "              weights=[embedding_matrix], trainable=True),\n",
        "\n",
        "    # 🔹 New: Dropout entire word embeddings randomly\n",
        "    SpatialDropout1D(0.3),  # <== Good before LSTM\n",
        "\n",
        "    Bidirectional(LSTM(\n",
        "        64,\n",
        "        return_sequences=False,\n",
        "        dropout=0.3,\n",
        "        recurrent_dropout=0.3,  # <== Like in your reference\n",
        "        kernel_regularizer=l2(0.001)\n",
        "    )),\n",
        "\n",
        "    Dropout(0.2),  # <== slightly earlier dropout before dense\n",
        "    Dense(64, activation='relu', kernel_regularizer=l2(0.001)),\n",
        "\n",
        "    Dropout(0.4),  # <== a stronger dropout after dense\n",
        "    Dense(1, activation='sigmoid')\n",
        "])\n",
        "# Compile the model\n",
        "model.compile(loss='binary_crossentropy', optimizer='adam', metrics=['accuracy'])\n",
        "\n",
        "# Set up EarlyStopping\n",
        "early_stopping = EarlyStopping(monitor='val_loss', patience=4, restore_best_weights=True)\n",
        "\n",
        "# Train the model\n",
        "history = model.fit(X_train, y_train, epochs=5, validation_split=0.1, batch_size=64, callbacks=[early_stopping] )\n",
        "\n",
        "# Evaluate the model\n",
        "test_loss, test_acc = model.evaluate(X_test, y_test)\n",
        "print(f\"Test Accuracy: {test_acc:.4f}\")"
      ],
      "metadata": {
        "colab": {
          "base_uri": "https://localhost:8080/"
        },
        "id": "En2piqlLgeyP",
        "outputId": "ec0df44e-11bc-4408-a428-d2d32207e6e8"
      },
      "execution_count": 127,
      "outputs": [
        {
          "output_type": "stream",
          "name": "stderr",
          "text": [
            "/usr/local/lib/python3.11/dist-packages/keras/src/layers/core/embedding.py:90: UserWarning: Argument `input_length` is deprecated. Just remove it.\n",
            "  warnings.warn(\n"
          ]
        },
        {
          "output_type": "stream",
          "name": "stdout",
          "text": [
            "Epoch 1/5\n",
            "\u001b[1m212/212\u001b[0m \u001b[32m━━━━━━━━━━━━━━━━━━━━\u001b[0m\u001b[37m\u001b[0m \u001b[1m184s\u001b[0m 816ms/step - accuracy: 0.7505 - loss: 0.8857 - val_accuracy: 0.9015 - val_loss: 0.3893\n",
            "Epoch 2/5\n",
            "\u001b[1m212/212\u001b[0m \u001b[32m━━━━━━━━━━━━━━━━━━━━\u001b[0m\u001b[37m\u001b[0m \u001b[1m210s\u001b[0m 854ms/step - accuracy: 0.8757 - loss: 0.4350 - val_accuracy: 0.9202 - val_loss: 0.3219\n",
            "Epoch 3/5\n",
            "\u001b[1m212/212\u001b[0m \u001b[32m━━━━━━━━━━━━━━━━━━━━\u001b[0m\u001b[37m\u001b[0m \u001b[1m196s\u001b[0m 824ms/step - accuracy: 0.9149 - loss: 0.3208 - val_accuracy: 0.9381 - val_loss: 0.2558\n",
            "Epoch 4/5\n",
            "\u001b[1m212/212\u001b[0m \u001b[32m━━━━━━━━━━━━━━━━━━━━\u001b[0m\u001b[37m\u001b[0m \u001b[1m215s\u001b[0m 883ms/step - accuracy: 0.9341 - loss: 0.2536 - val_accuracy: 0.9415 - val_loss: 0.2260\n",
            "Epoch 5/5\n",
            "\u001b[1m212/212\u001b[0m \u001b[32m━━━━━━━━━━━━━━━━━━━━\u001b[0m\u001b[37m\u001b[0m \u001b[1m190s\u001b[0m 829ms/step - accuracy: 0.9506 - loss: 0.2047 - val_accuracy: 0.9408 - val_loss: 0.2149\n",
            "\u001b[1m118/118\u001b[0m \u001b[32m━━━━━━━━━━━━━━━━━━━━\u001b[0m\u001b[37m\u001b[0m \u001b[1m13s\u001b[0m 109ms/step - accuracy: 0.9496 - loss: 0.2031\n",
            "Test Accuracy: 0.9470\n"
          ]
        }
      ]
    },
    {
      "cell_type": "code",
      "source": [
        "# Predict probabilities (sigmoid output between 0 and 1)\n",
        "y_pred_probs = model.predict(X_test)\n",
        "# Convert probabilities to binary class labels (0 or 1)\n",
        "y_pred = (y_pred_probs > 0.5).astype(\"int32\").flatten()\n",
        "\n",
        "print(\"\\nClassification Report:\")\n",
        "print(classification_report(y_test, y_pred, target_names=label_encoder.classes_))\n",
        "\n",
        "precision = precision_score(y_test, y_pred, average='macro')\n",
        "recall = recall_score(y_test, y_pred, average='macro')\n",
        "f1 = f1_score(y_test, y_pred, average='macro')\n",
        "\n",
        "print(f\"\\nMacro Precision: {precision:.4f}\")\n",
        "print(f\"Macro Recall:    {recall:.4f}\")\n",
        "print(f\"Macro F1-score:  {f1:.4f}\")"
      ],
      "metadata": {
        "colab": {
          "base_uri": "https://localhost:8080/"
        },
        "id": "axah8wEMppXn",
        "outputId": "568ee807-5d6e-4c07-a5a7-3df83b48b0b3"
      },
      "execution_count": 128,
      "outputs": [
        {
          "output_type": "stream",
          "name": "stdout",
          "text": [
            "\u001b[1m118/118\u001b[0m \u001b[32m━━━━━━━━━━━━━━━━━━━━\u001b[0m\u001b[37m\u001b[0m \u001b[1m14s\u001b[0m 115ms/step\n",
            "\n",
            "Classification Report:\n",
            "              precision    recall  f1-score   support\n",
            "\n",
            "    Negative       0.97      0.96      0.96      2716\n",
            "    Positive       0.89      0.92      0.91      1040\n",
            "\n",
            "    accuracy                           0.95      3756\n",
            "   macro avg       0.93      0.94      0.93      3756\n",
            "weighted avg       0.95      0.95      0.95      3756\n",
            "\n",
            "\n",
            "Macro Precision: 0.9307\n",
            "Macro Recall:    0.9384\n",
            "Macro F1-score:  0.9344\n"
          ]
        }
      ]
    },
    {
      "cell_type": "code",
      "source": [
        "cm = confusion_matrix(y_test, y_pred)\n",
        "print(\"\\nConfusion Matrix:\")\n",
        "print(cm)"
      ],
      "metadata": {
        "id": "8kscLZ_ORBlw",
        "outputId": "195196ca-a32e-4ea9-c353-b10e2c405302",
        "colab": {
          "base_uri": "https://localhost:8080/"
        }
      },
      "execution_count": 129,
      "outputs": [
        {
          "output_type": "stream",
          "name": "stdout",
          "text": [
            "\n",
            "Confusion Matrix:\n",
            "[[2601  115]\n",
            " [  84  956]]\n"
          ]
        }
      ]
    },
    {
      "cell_type": "markdown",
      "source": [
        "Fixed Embedding vector + MLP"
      ],
      "metadata": {
        "id": "bt0kphx9KGJ7"
      }
    },
    {
      "cell_type": "code",
      "source": [
        "import numpy as np\n",
        "from sklearn.model_selection import train_test_split\n",
        "from sklearn.preprocessing import LabelEncoder\n",
        "from tensorflow.keras.models import Sequential\n",
        "from tensorflow.keras.layers import Dense, Dropout\n",
        "from tensorflow.keras.regularizers import l2\n",
        "\n",
        "# 1. Create averaged embeddings for each review\n",
        "def average_embedding(review, tokenizer, embeddings_index, embedding_dim):\n",
        "    words = tokenizer.texts_to_sequences([review])[0]  # list of word indices\n",
        "    valid_embeddings = []\n",
        "\n",
        "    # Reverse tokenizer to get word from index\n",
        "    index_word = {v: k for k, v in tokenizer.word_index.items()}\n",
        "\n",
        "    for word_idx in words:\n",
        "        word = index_word.get(word_idx)\n",
        "        if word and word in embeddings_index:\n",
        "            valid_embeddings.append(embeddings_index[word])\n",
        "\n",
        "    if valid_embeddings:\n",
        "        return np.mean(valid_embeddings, axis=0)\n",
        "    else:\n",
        "        return np.zeros(embedding_dim)\n",
        "\n",
        "# Apply to all reviews\n",
        "review_vectors = np.array([\n",
        "    average_embedding(text, tokenizer, embeddings_index, embedding_dim)\n",
        "    for text in df_cleaned['Review']\n",
        "])\n",
        "print(f\"Review vector shape: {review_vectors.shape}\")  # Should be (num_reviews, embedding_dim)\n",
        "\n",
        "# 2. Encode labels\n",
        "label_encoder = LabelEncoder()\n",
        "labels = label_encoder.fit_transform(df_cleaned['Sentiment'])\n",
        "\n",
        "# 3. Train-test split\n",
        "X_train, X_test, y_train, y_test = train_test_split(\n",
        "    review_vectors, labels, test_size=0.2, random_state=42\n",
        ")\n",
        "\n",
        "\n",
        "# 4. Build a simple feedforward classifier\n",
        "model = Sequential([\n",
        "    Dense(128, activation='relu', input_shape=(embedding_dim,), kernel_regularizer=l2(0.001)),\n",
        "    Dropout(0.5),\n",
        "    Dense(64, activation='relu', kernel_regularizer=l2(0.001)),\n",
        "    Dropout(0.4),\n",
        "    Dense(len(np.unique(labels)), activation='softmax')\n",
        "])\n",
        "\n",
        "model.compile(loss='sparse_categorical_crossentropy', optimizer='adam', metrics=['accuracy'])\n",
        "\n",
        "# 5. Train with early stopping\n",
        "from tensorflow.keras.callbacks import EarlyStopping\n",
        "\n",
        "early_stopping = EarlyStopping(monitor='val_loss', patience=4, restore_best_weights=True)\n",
        "\n",
        "# Get class weights\n",
        "class_weights = compute_class_weight(\n",
        "    class_weight='balanced',\n",
        "    classes=np.unique(labels),\n",
        "    y=labels\n",
        ")\n",
        "\n",
        "# Convert to dict (Keras requires this format)\n",
        "class_weights_dict = dict(enumerate(class_weights))\n",
        "\n",
        "# Now pass it to model.fit()\n",
        "history = model.fit(\n",
        "    X_train, y_train,\n",
        "    epochs=30,\n",
        "    batch_size=64,\n",
        "    validation_split=0.1,\n",
        "    callbacks=[early_stopping],\n",
        "    class_weight=class_weights_dict  # 👈 here!\n",
        ")\n",
        "\n",
        "# 6. Evaluate\n",
        "test_loss, test_acc = model.evaluate(X_test, y_test)\n",
        "print(f\"Test Accuracy: {test_acc:.4f}\")\n"
      ],
      "metadata": {
        "colab": {
          "base_uri": "https://localhost:8080/"
        },
        "id": "pWkoxMjmIhw2",
        "outputId": "f4f52046-c542-4380-dcb9-30969f1a0804"
      },
      "execution_count": 40,
      "outputs": [
        {
          "output_type": "stream",
          "name": "stdout",
          "text": [
            "Review vector shape: (19607, 200)\n",
            "Epoch 1/30\n"
          ]
        },
        {
          "output_type": "stream",
          "name": "stderr",
          "text": [
            "/usr/local/lib/python3.11/dist-packages/keras/src/layers/core/dense.py:87: UserWarning: Do not pass an `input_shape`/`input_dim` argument to a layer. When using Sequential models, prefer using an `Input(shape)` object as the first layer in the model instead.\n",
            "  super().__init__(activity_regularizer=activity_regularizer, **kwargs)\n"
          ]
        },
        {
          "output_type": "stream",
          "name": "stdout",
          "text": [
            "\u001b[1m221/221\u001b[0m \u001b[32m━━━━━━━━━━━━━━━━━━━━\u001b[0m\u001b[37m\u001b[0m \u001b[1m3s\u001b[0m 5ms/step - accuracy: 0.7064 - loss: 0.7248 - val_accuracy: 0.8094 - val_loss: 0.5591\n",
            "Epoch 2/30\n",
            "\u001b[1m221/221\u001b[0m \u001b[32m━━━━━━━━━━━━━━━━━━━━\u001b[0m\u001b[37m\u001b[0m \u001b[1m1s\u001b[0m 4ms/step - accuracy: 0.8625 - loss: 0.4295 - val_accuracy: 0.8904 - val_loss: 0.3613\n",
            "Epoch 3/30\n",
            "\u001b[1m221/221\u001b[0m \u001b[32m━━━━━━━━━━━━━━━━━━━━\u001b[0m\u001b[37m\u001b[0m \u001b[1m1s\u001b[0m 4ms/step - accuracy: 0.8766 - loss: 0.3774 - val_accuracy: 0.8929 - val_loss: 0.3395\n",
            "Epoch 4/30\n",
            "\u001b[1m221/221\u001b[0m \u001b[32m━━━━━━━━━━━━━━━━━━━━\u001b[0m\u001b[37m\u001b[0m \u001b[1m1s\u001b[0m 4ms/step - accuracy: 0.8879 - loss: 0.3513 - val_accuracy: 0.8955 - val_loss: 0.3257\n",
            "Epoch 5/30\n",
            "\u001b[1m221/221\u001b[0m \u001b[32m━━━━━━━━━━━━━━━━━━━━\u001b[0m\u001b[37m\u001b[0m \u001b[1m1s\u001b[0m 4ms/step - accuracy: 0.8867 - loss: 0.3473 - val_accuracy: 0.8540 - val_loss: 0.4211\n",
            "Epoch 6/30\n",
            "\u001b[1m221/221\u001b[0m \u001b[32m━━━━━━━━━━━━━━━━━━━━\u001b[0m\u001b[37m\u001b[0m \u001b[1m1s\u001b[0m 4ms/step - accuracy: 0.8887 - loss: 0.3300 - val_accuracy: 0.8770 - val_loss: 0.3703\n",
            "Epoch 7/30\n",
            "\u001b[1m221/221\u001b[0m \u001b[32m━━━━━━━━━━━━━━━━━━━━\u001b[0m\u001b[37m\u001b[0m \u001b[1m1s\u001b[0m 4ms/step - accuracy: 0.8823 - loss: 0.3308 - val_accuracy: 0.8891 - val_loss: 0.3281\n",
            "Epoch 8/30\n",
            "\u001b[1m221/221\u001b[0m \u001b[32m━━━━━━━━━━━━━━━━━━━━\u001b[0m\u001b[37m\u001b[0m \u001b[1m2s\u001b[0m 6ms/step - accuracy: 0.8913 - loss: 0.3159 - val_accuracy: 0.8815 - val_loss: 0.3430\n",
            "\u001b[1m123/123\u001b[0m \u001b[32m━━━━━━━━━━━━━━━━━━━━\u001b[0m\u001b[37m\u001b[0m \u001b[1m0s\u001b[0m 3ms/step - accuracy: 0.8991 - loss: 0.3203\n",
            "Test Accuracy: 0.9072\n"
          ]
        }
      ]
    },
    {
      "cell_type": "code",
      "source": [
        "# Get predicted class labels\n",
        "y_pred_probs = model.predict(X_test)\n",
        "y_pred = np.argmax(y_pred_probs, axis=1)\n",
        "\n",
        "# Print full classification report\n",
        "print(\"\\nClassification Report:\")\n",
        "print(classification_report(y_test, y_pred, target_names=label_encoder.classes_))\n",
        "\n",
        "# Optional: precision, recall, f1 (macro-averaged)\n",
        "precision = precision_score(y_test, y_pred, average='macro')\n",
        "recall = recall_score(y_test, y_pred, average='macro')\n",
        "f1 = f1_score(y_test, y_pred, average='macro')\n",
        "\n",
        "print(f\"\\nMacro Precision: {precision:.4f}\")\n",
        "print(f\"Macro Recall:    {recall:.4f}\")\n",
        "print(f\"Macro F1-score:  {f1:.4f}\")"
      ],
      "metadata": {
        "colab": {
          "base_uri": "https://localhost:8080/"
        },
        "id": "L3UFTfM7Kkbf",
        "outputId": "72eb3925-f863-4c90-c29e-4b2e80ff7446"
      },
      "execution_count": 41,
      "outputs": [
        {
          "output_type": "stream",
          "name": "stdout",
          "text": [
            "\u001b[1m123/123\u001b[0m \u001b[32m━━━━━━━━━━━━━━━━━━━━\u001b[0m\u001b[37m\u001b[0m \u001b[1m0s\u001b[0m 2ms/step\n",
            "\n",
            "Classification Report:\n",
            "              precision    recall  f1-score   support\n",
            "\n",
            "    Negative       0.96      0.91      0.94      2907\n",
            "    Positive       0.78      0.90      0.83      1015\n",
            "\n",
            "    accuracy                           0.91      3922\n",
            "   macro avg       0.87      0.90      0.88      3922\n",
            "weighted avg       0.91      0.91      0.91      3922\n",
            "\n",
            "\n",
            "Macro Precision: 0.8699\n",
            "Macro Recall:    0.9047\n",
            "Macro F1-score:  0.8847\n"
          ]
        }
      ]
    },
    {
      "cell_type": "markdown",
      "source": [
        "# Results"
      ],
      "metadata": {
        "id": "nblxZfKkfq1Q"
      }
    },
    {
      "cell_type": "markdown",
      "source": [],
      "metadata": {
        "id": "_9KVL-uOHy3H"
      }
    },
    {
      "cell_type": "markdown",
      "source": [
        "# Conclusions and final considerations"
      ],
      "metadata": {
        "id": "SdG-fOB9fvWE"
      }
    }
  ]
}